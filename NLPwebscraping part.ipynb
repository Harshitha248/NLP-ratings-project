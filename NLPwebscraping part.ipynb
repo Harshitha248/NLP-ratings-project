{
 "cells": [
  {
   "cell_type": "code",
   "execution_count": 1,
   "id": "digital-logic",
   "metadata": {},
   "outputs": [],
   "source": [
    "# Importing Libraries\n",
    "import selenium\n",
    "import pandas as pd\n",
    "import time\n",
    "from bs4 import BeautifulSoup\n",
    "\n",
    "# Importing selenium webdriver \n",
    "from selenium import webdriver\n",
    "\n",
    "# Importing required Exceptions which needs to handled\n",
    "from selenium.common.exceptions import StaleElementReferenceException, NoSuchElementException\n",
    "\n",
    "#Importing requests\n",
    "import requests\n",
    "\n",
    "# importing regex\n",
    "import re"
   ]
  },
  {
   "cell_type": "code",
   "execution_count": 2,
   "id": "imperial-lightweight",
   "metadata": {},
   "outputs": [],
   "source": [
    "# Activating the chrome browser\n",
    "driver = webdriver.Chrome(r'E:/chromedriver')"
   ]
  },
  {
   "cell_type": "code",
   "execution_count": 3,
   "id": "accessible-invalid",
   "metadata": {},
   "outputs": [
    {
     "name": "stdout",
     "output_type": "stream",
     "text": [
      "Enter the product you want to search : laptops\n"
     ]
    }
   ],
   "source": [
    "# Opening the homepage of Amazon.in\n",
    "driver.get('https://www.amazon.in/')\n",
    "# Asking the user to input the keywords he/she wants to search\n",
    "user_inp = input('Enter the product you want to search : ')"
   ]
  },
  {
   "cell_type": "code",
   "execution_count": 4,
   "id": "exposed-valentine",
   "metadata": {},
   "outputs": [],
   "source": [
    "search_bar = driver.find_element_by_id(\"twotabsearchtextbox\")    # Locating searc_bar by id\n",
    "search_bar.clear()                                               # clearing search_bar\n",
    "search_bar.send_keys(user_inp)                                   # sending user input to search bar\n",
    "search_button = driver.find_element_by_xpath('//div[@class=\"nav-search-submit nav-sprite\"]/span/input')       # Locating search_button by xpath\n",
    "search_button.click()  "
   ]
  },
  {
   "cell_type": "code",
   "execution_count": 5,
   "id": "metallic-australia",
   "metadata": {},
   "outputs": [],
   "source": [
    "#create an empty list \n",
    "Ratings=[]\n",
    "Reviews=[]"
   ]
  },
  {
   "cell_type": "code",
   "execution_count": 8,
   "id": "pointed-bradford",
   "metadata": {},
   "outputs": [],
   "source": [
    "urls=driver.find_elements_by_xpath(\"//a[@class='a-link-normal a-text-normal']\")\n",
    "UR=[]\n",
    "for i in urls:\n",
    "    UR.append(i.get_attribute('href'))\n",
    "for url in UR:\n",
    "    driver.get(url)\n",
    "    try:\n",
    "        rate=driver.find_element_by_xpath(\"//span[@id='acrCustomerReviewText']\")\n",
    "        rate.click()\n",
    "        rating=driver.find_element_by_xpath(\"//span[@class='a-size-medium a-color-base']\")\n",
    "        Ratings.append(rating.text)\n",
    "        review=driver.find_element_by_xpath(\"//a[@class='a-size-base a-link-normal review-title a-color-base review-title-content a-text-bold']\")\n",
    "        Reviews.append(review.text)\n",
    "    except NoSuchElementException   as e:\n",
    "        Ratings.append(\"NO rating\")\n",
    "        Reviews.append(\"NO rating\")"
   ]
  },
  {
   "cell_type": "code",
   "execution_count": 9,
   "id": "whole-study",
   "metadata": {},
   "outputs": [
    {
     "name": "stdout",
     "output_type": "stream",
     "text": [
      "23\n",
      "23\n"
     ]
    }
   ],
   "source": [
    "#checking the length of each list\n",
    "print(len(Ratings))\n",
    "print(len(Reviews))"
   ]
  },
  {
   "cell_type": "code",
   "execution_count": 10,
   "id": "embedded-violin",
   "metadata": {},
   "outputs": [],
   "source": [
    "import pandas as pd\n",
    "amazon=pd.DataFrame({})\n",
    "amazon['Ratings']=Ratings[0:60]\n",
    "amazon['Reviews']=Reviews[0:60]"
   ]
  },
  {
   "cell_type": "code",
   "execution_count": 11,
   "id": "fresh-runner",
   "metadata": {},
   "outputs": [
    {
     "data": {
      "text/html": [
       "<div>\n",
       "<style scoped>\n",
       "    .dataframe tbody tr th:only-of-type {\n",
       "        vertical-align: middle;\n",
       "    }\n",
       "\n",
       "    .dataframe tbody tr th {\n",
       "        vertical-align: top;\n",
       "    }\n",
       "\n",
       "    .dataframe thead th {\n",
       "        text-align: right;\n",
       "    }\n",
       "</style>\n",
       "<table border=\"1\" class=\"dataframe\">\n",
       "  <thead>\n",
       "    <tr style=\"text-align: right;\">\n",
       "      <th></th>\n",
       "      <th>Ratings</th>\n",
       "      <th>Reviews</th>\n",
       "    </tr>\n",
       "  </thead>\n",
       "  <tbody>\n",
       "    <tr>\n",
       "      <th>0</th>\n",
       "      <td>5 out of 5</td>\n",
       "      <td>Awesome product.</td>\n",
       "    </tr>\n",
       "    <tr>\n",
       "      <th>1</th>\n",
       "      <td>4.3 out of 5</td>\n",
       "      <td>Impressive. Almost perfect</td>\n",
       "    </tr>\n",
       "    <tr>\n",
       "      <th>2</th>\n",
       "      <td>3.9 out of 5</td>\n",
       "      <td>Huge discount</td>\n",
       "    </tr>\n",
       "    <tr>\n",
       "      <th>3</th>\n",
       "      <td>4 out of 5</td>\n",
       "      <td>Accessories not available in box</td>\n",
       "    </tr>\n",
       "    <tr>\n",
       "      <th>4</th>\n",
       "      <td>3.8 out of 5</td>\n",
       "      <td>Not working also visited hp service centere</td>\n",
       "    </tr>\n",
       "    <tr>\n",
       "      <th>5</th>\n",
       "      <td>4 out of 5</td>\n",
       "      <td>Premium machine for widows lovers</td>\n",
       "    </tr>\n",
       "    <tr>\n",
       "      <th>6</th>\n",
       "      <td>3.6 out of 5</td>\n",
       "      <td>Bad product</td>\n",
       "    </tr>\n",
       "    <tr>\n",
       "      <th>7</th>\n",
       "      <td>3.3 out of 5</td>\n",
       "      <td>Honest review</td>\n",
       "    </tr>\n",
       "    <tr>\n",
       "      <th>8</th>\n",
       "      <td>4.1 out of 5</td>\n",
       "      <td>V. Nice product</td>\n",
       "    </tr>\n",
       "    <tr>\n",
       "      <th>9</th>\n",
       "      <td>3.6 out of 5</td>\n",
       "      <td>Light weight and good battery time</td>\n",
       "    </tr>\n",
       "    <tr>\n",
       "      <th>10</th>\n",
       "      <td>3.8 out of 5</td>\n",
       "      <td>A lot of information mentioned is wrong, it's ...</td>\n",
       "    </tr>\n",
       "    <tr>\n",
       "      <th>11</th>\n",
       "      <td>NO rating</td>\n",
       "      <td>NO rating</td>\n",
       "    </tr>\n",
       "    <tr>\n",
       "      <th>12</th>\n",
       "      <td>3.8 out of 5</td>\n",
       "      <td>Best laptop ever</td>\n",
       "    </tr>\n",
       "    <tr>\n",
       "      <th>13</th>\n",
       "      <td>4.2 out of 5</td>\n",
       "      <td>Ryzen 3 3250U much better than core i3 10th ge...</td>\n",
       "    </tr>\n",
       "    <tr>\n",
       "      <th>14</th>\n",
       "      <td>3.3 out of 5</td>\n",
       "      <td>First Impression !!</td>\n",
       "    </tr>\n",
       "    <tr>\n",
       "      <th>15</th>\n",
       "      <td>3.3 out of 5</td>\n",
       "      <td>Cannot even operate basic softwares</td>\n",
       "    </tr>\n",
       "    <tr>\n",
       "      <th>16</th>\n",
       "      <td>NO rating</td>\n",
       "      <td>NO rating</td>\n",
       "    </tr>\n",
       "    <tr>\n",
       "      <th>17</th>\n",
       "      <td>3.9 out of 5</td>\n",
       "      <td>In-depth review + update at 60 days</td>\n",
       "    </tr>\n",
       "    <tr>\n",
       "      <th>18</th>\n",
       "      <td>4 out of 5</td>\n",
       "      <td>Laptop crashed while setting up</td>\n",
       "    </tr>\n",
       "    <tr>\n",
       "      <th>19</th>\n",
       "      <td>3.7 out of 5</td>\n",
       "      <td>Not as expected</td>\n",
       "    </tr>\n",
       "    <tr>\n",
       "      <th>20</th>\n",
       "      <td>4 out of 5</td>\n",
       "      <td>Good product</td>\n",
       "    </tr>\n",
       "    <tr>\n",
       "      <th>21</th>\n",
       "      <td>4.5 out of 5</td>\n",
       "      <td>Deal of the year!</td>\n",
       "    </tr>\n",
       "    <tr>\n",
       "      <th>22</th>\n",
       "      <td>4.4 out of 5</td>\n",
       "      <td>Worst Laptop</td>\n",
       "    </tr>\n",
       "  </tbody>\n",
       "</table>\n",
       "</div>"
      ],
      "text/plain": [
       "         Ratings                                            Reviews\n",
       "0     5 out of 5                                   Awesome product.\n",
       "1   4.3 out of 5                         Impressive. Almost perfect\n",
       "2   3.9 out of 5                                      Huge discount\n",
       "3     4 out of 5                   Accessories not available in box\n",
       "4   3.8 out of 5        Not working also visited hp service centere\n",
       "5     4 out of 5                  Premium machine for widows lovers\n",
       "6   3.6 out of 5                                        Bad product\n",
       "7   3.3 out of 5                                      Honest review\n",
       "8   4.1 out of 5                                    V. Nice product\n",
       "9   3.6 out of 5                 Light weight and good battery time\n",
       "10  3.8 out of 5  A lot of information mentioned is wrong, it's ...\n",
       "11     NO rating                                          NO rating\n",
       "12  3.8 out of 5                                   Best laptop ever\n",
       "13  4.2 out of 5  Ryzen 3 3250U much better than core i3 10th ge...\n",
       "14  3.3 out of 5                                First Impression !!\n",
       "15  3.3 out of 5                Cannot even operate basic softwares\n",
       "16     NO rating                                          NO rating\n",
       "17  3.9 out of 5                In-depth review + update at 60 days\n",
       "18    4 out of 5                    Laptop crashed while setting up\n",
       "19  3.7 out of 5                                    Not as expected\n",
       "20    4 out of 5                                       Good product\n",
       "21  4.5 out of 5                                  Deal of the year!\n",
       "22  4.4 out of 5                                       Worst Laptop"
      ]
     },
     "execution_count": 11,
     "metadata": {},
     "output_type": "execute_result"
    }
   ],
   "source": [
    "amazon"
   ]
  },
  {
   "cell_type": "code",
   "execution_count": 12,
   "id": "satisfied-turkish",
   "metadata": {},
   "outputs": [],
   "source": [
    "amazon.to_csv('amazon_ratings_reviews.csv', index = False)"
   ]
  },
  {
   "cell_type": "code",
   "execution_count": 13,
   "id": "white-spring",
   "metadata": {},
   "outputs": [],
   "source": [
    "import numpy as np\n",
    "import pandas as pd"
   ]
  },
  {
   "cell_type": "code",
   "execution_count": 14,
   "id": "nasty-maple",
   "metadata": {},
   "outputs": [],
   "source": [
    "df=pd.read_csv('amazon_ratings_reviews.csv')"
   ]
  },
  {
   "cell_type": "code",
   "execution_count": 29,
   "id": "trying-enemy",
   "metadata": {},
   "outputs": [
    {
     "data": {
      "text/html": [
       "<div>\n",
       "<style scoped>\n",
       "    .dataframe tbody tr th:only-of-type {\n",
       "        vertical-align: middle;\n",
       "    }\n",
       "\n",
       "    .dataframe tbody tr th {\n",
       "        vertical-align: top;\n",
       "    }\n",
       "\n",
       "    .dataframe thead th {\n",
       "        text-align: right;\n",
       "    }\n",
       "</style>\n",
       "<table border=\"1\" class=\"dataframe\">\n",
       "  <thead>\n",
       "    <tr style=\"text-align: right;\">\n",
       "      <th></th>\n",
       "      <th>Ratings</th>\n",
       "      <th>Reviews</th>\n",
       "    </tr>\n",
       "  </thead>\n",
       "  <tbody>\n",
       "    <tr>\n",
       "      <th>0</th>\n",
       "      <td>5 out of 5</td>\n",
       "      <td>Awesome product.</td>\n",
       "    </tr>\n",
       "    <tr>\n",
       "      <th>1</th>\n",
       "      <td>4.3 out of 5</td>\n",
       "      <td>Impressive. Almost perfect</td>\n",
       "    </tr>\n",
       "    <tr>\n",
       "      <th>2</th>\n",
       "      <td>3.9 out of 5</td>\n",
       "      <td>Huge discount</td>\n",
       "    </tr>\n",
       "    <tr>\n",
       "      <th>3</th>\n",
       "      <td>4 out of 5</td>\n",
       "      <td>Accessories not available in box</td>\n",
       "    </tr>\n",
       "    <tr>\n",
       "      <th>4</th>\n",
       "      <td>3.8 out of 5</td>\n",
       "      <td>Not working also visited hp service centere</td>\n",
       "    </tr>\n",
       "  </tbody>\n",
       "</table>\n",
       "</div>"
      ],
      "text/plain": [
       "        Ratings                                      Reviews\n",
       "0    5 out of 5                             Awesome product.\n",
       "1  4.3 out of 5                   Impressive. Almost perfect\n",
       "2  3.9 out of 5                                Huge discount\n",
       "3    4 out of 5             Accessories not available in box\n",
       "4  3.8 out of 5  Not working also visited hp service centere"
      ]
     },
     "execution_count": 29,
     "metadata": {},
     "output_type": "execute_result"
    }
   ],
   "source": [
    "df.head()"
   ]
  },
  {
   "cell_type": "code",
   "execution_count": 30,
   "id": "reasonable-window",
   "metadata": {},
   "outputs": [],
   "source": [
    "df['Ratings'].replace(['4.3 out of 5','3.9 out of 5','3.8 out of 5'],['4 out of 5','4 out of 5','4 out of 5'], inplace = True)"
   ]
  },
  {
   "cell_type": "code",
   "execution_count": 32,
   "id": "serial-sheet",
   "metadata": {},
   "outputs": [],
   "source": [
    "df['Ratings'].replace(['3.6 out of 5','3.3 out of 5','4.1 out of 5'],['4 out of 5','3 out of 5','4 out of 5'], inplace = True)"
   ]
  },
  {
   "cell_type": "code",
   "execution_count": 34,
   "id": "incident-termination",
   "metadata": {},
   "outputs": [],
   "source": [
    "df['Ratings'].replace(['4.2 out of 5','3.7 out of 5','4.5 out of 5','4.4 out of 5'],['4 out of 5','4 out of 5','5 out of 5','4 out of 5'], inplace = True)"
   ]
  },
  {
   "cell_type": "code",
   "execution_count": 36,
   "id": "agricultural-stationery",
   "metadata": {},
   "outputs": [
    {
     "data": {
      "text/html": [
       "<div>\n",
       "<style scoped>\n",
       "    .dataframe tbody tr th:only-of-type {\n",
       "        vertical-align: middle;\n",
       "    }\n",
       "\n",
       "    .dataframe tbody tr th {\n",
       "        vertical-align: top;\n",
       "    }\n",
       "\n",
       "    .dataframe thead th {\n",
       "        text-align: right;\n",
       "    }\n",
       "</style>\n",
       "<table border=\"1\" class=\"dataframe\">\n",
       "  <thead>\n",
       "    <tr style=\"text-align: right;\">\n",
       "      <th></th>\n",
       "      <th>Ratings</th>\n",
       "      <th>Reviews</th>\n",
       "    </tr>\n",
       "  </thead>\n",
       "  <tbody>\n",
       "    <tr>\n",
       "      <th>0</th>\n",
       "      <td>5 out of 5</td>\n",
       "      <td>Awesome product.</td>\n",
       "    </tr>\n",
       "    <tr>\n",
       "      <th>1</th>\n",
       "      <td>4 out of 5</td>\n",
       "      <td>Impressive. Almost perfect</td>\n",
       "    </tr>\n",
       "    <tr>\n",
       "      <th>2</th>\n",
       "      <td>4 out of 5</td>\n",
       "      <td>Huge discount</td>\n",
       "    </tr>\n",
       "    <tr>\n",
       "      <th>3</th>\n",
       "      <td>4 out of 5</td>\n",
       "      <td>Accessories not available in box</td>\n",
       "    </tr>\n",
       "    <tr>\n",
       "      <th>4</th>\n",
       "      <td>4 out of 5</td>\n",
       "      <td>Not working also visited hp service centere</td>\n",
       "    </tr>\n",
       "  </tbody>\n",
       "</table>\n",
       "</div>"
      ],
      "text/plain": [
       "      Ratings                                      Reviews\n",
       "0  5 out of 5                             Awesome product.\n",
       "1  4 out of 5                   Impressive. Almost perfect\n",
       "2  4 out of 5                                Huge discount\n",
       "3  4 out of 5             Accessories not available in box\n",
       "4  4 out of 5  Not working also visited hp service centere"
      ]
     },
     "execution_count": 36,
     "metadata": {},
     "output_type": "execute_result"
    }
   ],
   "source": [
    "df.head()"
   ]
  },
  {
   "cell_type": "code",
   "execution_count": 38,
   "id": "regular-nevada",
   "metadata": {},
   "outputs": [
    {
     "data": {
      "text/plain": [
       "4 out of 5    16\n",
       "3 out of 5     3\n",
       "5 out of 5     2\n",
       "NO rating      2\n",
       "Name: Ratings, dtype: int64"
      ]
     },
     "execution_count": 38,
     "metadata": {},
     "output_type": "execute_result"
    }
   ],
   "source": [
    "df['Ratings'].value_counts()"
   ]
  },
  {
   "cell_type": "code",
   "execution_count": null,
   "id": "mexican-minute",
   "metadata": {},
   "outputs": [],
   "source": []
  }
 ],
 "metadata": {
  "kernelspec": {
   "display_name": "Python 3",
   "language": "python",
   "name": "python3"
  },
  "language_info": {
   "codemirror_mode": {
    "name": "ipython",
    "version": 3
   },
   "file_extension": ".py",
   "mimetype": "text/x-python",
   "name": "python",
   "nbconvert_exporter": "python",
   "pygments_lexer": "ipython3",
   "version": "3.7.3"
  }
 },
 "nbformat": 4,
 "nbformat_minor": 5
}
