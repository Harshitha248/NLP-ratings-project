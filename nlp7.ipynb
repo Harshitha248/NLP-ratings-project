{
 "cells": [
  {
   "cell_type": "code",
   "execution_count": 31,
   "metadata": {
    "id": "Pt2oA_IgtyRg"
   },
   "outputs": [],
   "source": [
    "import numpy as np #for Data Analysis\n",
    "import pandas as pd #for scientific computation"
   ]
  },
  {
   "cell_type": "code",
   "execution_count": 32,
   "metadata": {
    "colab": {
     "base_uri": "https://localhost:8080/"
    },
    "id": "wSOE0wHVt65A",
    "outputId": "28c6148f-7855-4bca-e6ef-9f4f0490f7c1"
   },
   "outputs": [
    {
     "name": "stdout",
     "output_type": "stream",
     "text": [
      "Drive already mounted at /content/grive; to attempt to forcibly remount, call drive.mount(\"/content/grive\", force_remount=True).\n"
     ]
    }
   ],
   "source": [
    "from google.colab import drive\n",
    "drive.mount('/content/grive')"
   ]
  },
  {
   "cell_type": "code",
   "execution_count": 63,
   "metadata": {
    "id": "2redSSmkw2s3"
   },
   "outputs": [],
   "source": [
    "df=pd.read_csv('/content/grive/My Drive/amazon_ratings_reviews7.csv')"
   ]
  },
  {
   "cell_type": "code",
   "execution_count": 67,
   "metadata": {
    "colab": {
     "base_uri": "https://localhost:8080/",
     "height": 855
    },
    "id": "n32u6UpNyFZI",
    "outputId": "e48b7ad6-c3cc-44e3-f28c-25e9cb485d00"
   },
   "outputs": [
    {
     "data": {
      "text/html": [
       "<div>\n",
       "<style scoped>\n",
       "    .dataframe tbody tr th:only-of-type {\n",
       "        vertical-align: middle;\n",
       "    }\n",
       "\n",
       "    .dataframe tbody tr th {\n",
       "        vertical-align: top;\n",
       "    }\n",
       "\n",
       "    .dataframe thead th {\n",
       "        text-align: right;\n",
       "    }\n",
       "</style>\n",
       "<table border=\"1\" class=\"dataframe\">\n",
       "  <thead>\n",
       "    <tr style=\"text-align: right;\">\n",
       "      <th></th>\n",
       "      <th>Ratings</th>\n",
       "      <th>Reviews</th>\n",
       "    </tr>\n",
       "  </thead>\n",
       "  <tbody>\n",
       "    <tr>\n",
       "      <th>0</th>\n",
       "      <td>4.1 out of 5</td>\n",
       "      <td>M7 👎🏿 M5 👍🏿</td>\n",
       "    </tr>\n",
       "    <tr>\n",
       "      <th>1</th>\n",
       "      <td>4.4 out of 5</td>\n",
       "      <td>Not satisfied</td>\n",
       "    </tr>\n",
       "    <tr>\n",
       "      <th>2</th>\n",
       "      <td>4.3 out of 5</td>\n",
       "      <td>a very good monitor for programming / office use</td>\n",
       "    </tr>\n",
       "    <tr>\n",
       "      <th>3</th>\n",
       "      <td>4.4 out of 5</td>\n",
       "      <td>There is Backlight Glow (Not Leaking / Normal ...</td>\n",
       "    </tr>\n",
       "    <tr>\n",
       "      <th>4</th>\n",
       "      <td>3.6 out of 5</td>\n",
       "      <td>This is NOT a Full HD (1080p) Monitor</td>\n",
       "    </tr>\n",
       "    <tr>\n",
       "      <th>5</th>\n",
       "      <td>4.1 out of 5</td>\n",
       "      <td>Dead pixels and denied replacement</td>\n",
       "    </tr>\n",
       "    <tr>\n",
       "      <th>6</th>\n",
       "      <td>4.4 out of 5</td>\n",
       "      <td>Best 21\" 1080P Monitor, In-Depth review.</td>\n",
       "    </tr>\n",
       "    <tr>\n",
       "      <th>7</th>\n",
       "      <td>4.3 out of 5</td>\n",
       "      <td>A very Nice and decent Product but.....</td>\n",
       "    </tr>\n",
       "    <tr>\n",
       "      <th>8</th>\n",
       "      <td>4.5 out of 5</td>\n",
       "      <td>A good 4k monitor for work</td>\n",
       "    </tr>\n",
       "    <tr>\n",
       "      <th>9</th>\n",
       "      <td>4.5 out of 5</td>\n",
       "      <td>Worth every penny</td>\n",
       "    </tr>\n",
       "    <tr>\n",
       "      <th>10</th>\n",
       "      <td>2.9 out of 5</td>\n",
       "      <td>Not ips and full HD</td>\n",
       "    </tr>\n",
       "    <tr>\n",
       "      <th>11</th>\n",
       "      <td>4.3 out of 5</td>\n",
       "      <td>Not Full HD, texts doesn't appear smooth. Go f...</td>\n",
       "    </tr>\n",
       "    <tr>\n",
       "      <th>12</th>\n",
       "      <td>3 out of 5</td>\n",
       "      <td>Monitor not working</td>\n",
       "    </tr>\n",
       "    <tr>\n",
       "      <th>13</th>\n",
       "      <td>4.9 out of 5</td>\n",
       "      <td>Monitors shouldn't be compared just on paper. ...</td>\n",
       "    </tr>\n",
       "    <tr>\n",
       "      <th>14</th>\n",
       "      <td>4.4 out of 5</td>\n",
       "      <td>Dejected for the first time in Amazon &amp; LG</td>\n",
       "    </tr>\n",
       "    <tr>\n",
       "      <th>15</th>\n",
       "      <td>3.9 out of 5</td>\n",
       "      <td>Well built monitor that could have had better ...</td>\n",
       "    </tr>\n",
       "    <tr>\n",
       "      <th>16</th>\n",
       "      <td>4.3 out of 5</td>\n",
       "      <td>A good budget QHD 2K Monitor, but has serious ...</td>\n",
       "    </tr>\n",
       "    <tr>\n",
       "      <th>17</th>\n",
       "      <td>4.3 out of 5</td>\n",
       "      <td>Does not support regular power socket</td>\n",
       "    </tr>\n",
       "    <tr>\n",
       "      <th>18</th>\n",
       "      <td>4.4 out of 5</td>\n",
       "      <td>Does what it says...</td>\n",
       "    </tr>\n",
       "    <tr>\n",
       "      <th>19</th>\n",
       "      <td>4.2 out of 5</td>\n",
       "      <td>Superb choice.</td>\n",
       "    </tr>\n",
       "    <tr>\n",
       "      <th>20</th>\n",
       "      <td>4.4 out of 5</td>\n",
       "      <td>Overall Experience is good</td>\n",
       "    </tr>\n",
       "    <tr>\n",
       "      <th>21</th>\n",
       "      <td>NO rating</td>\n",
       "      <td>NO rating</td>\n",
       "    </tr>\n",
       "    <tr>\n",
       "      <th>22</th>\n",
       "      <td>4.4 out of 5</td>\n",
       "      <td>Best 21\" 1080P Monitor, In-Depth review.</td>\n",
       "    </tr>\n",
       "    <tr>\n",
       "      <th>23</th>\n",
       "      <td>4.4 out of 5</td>\n",
       "      <td>picture quality is good but why this 16A power...</td>\n",
       "    </tr>\n",
       "    <tr>\n",
       "      <th>24</th>\n",
       "      <td>4.2 out of 5</td>\n",
       "      <td>Perfect Condition. Budget Monitor. Works Fine ...</td>\n",
       "    </tr>\n",
       "    <tr>\n",
       "      <th>25</th>\n",
       "      <td>3.8 out of 5</td>\n",
       "      <td>Great monitor for the price</td>\n",
       "    </tr>\n",
       "  </tbody>\n",
       "</table>\n",
       "</div>"
      ],
      "text/plain": [
       "         Ratings                                            Reviews\n",
       "0   4.1 out of 5                                        M7 👎🏿 M5 👍🏿\n",
       "1   4.4 out of 5                                      Not satisfied\n",
       "2   4.3 out of 5   a very good monitor for programming / office use\n",
       "3   4.4 out of 5  There is Backlight Glow (Not Leaking / Normal ...\n",
       "4   3.6 out of 5              This is NOT a Full HD (1080p) Monitor\n",
       "5   4.1 out of 5                 Dead pixels and denied replacement\n",
       "6   4.4 out of 5           Best 21\" 1080P Monitor, In-Depth review.\n",
       "7   4.3 out of 5            A very Nice and decent Product but.....\n",
       "8   4.5 out of 5                         A good 4k monitor for work\n",
       "9   4.5 out of 5                                  Worth every penny\n",
       "10  2.9 out of 5                                Not ips and full HD\n",
       "11  4.3 out of 5  Not Full HD, texts doesn't appear smooth. Go f...\n",
       "12    3 out of 5                                Monitor not working\n",
       "13  4.9 out of 5  Monitors shouldn't be compared just on paper. ...\n",
       "14  4.4 out of 5         Dejected for the first time in Amazon & LG\n",
       "15  3.9 out of 5  Well built monitor that could have had better ...\n",
       "16  4.3 out of 5  A good budget QHD 2K Monitor, but has serious ...\n",
       "17  4.3 out of 5              Does not support regular power socket\n",
       "18  4.4 out of 5                               Does what it says...\n",
       "19  4.2 out of 5                                     Superb choice.\n",
       "20  4.4 out of 5                         Overall Experience is good\n",
       "21     NO rating                                          NO rating\n",
       "22  4.4 out of 5           Best 21\" 1080P Monitor, In-Depth review.\n",
       "23  4.4 out of 5  picture quality is good but why this 16A power...\n",
       "24  4.2 out of 5  Perfect Condition. Budget Monitor. Works Fine ...\n",
       "25  3.8 out of 5                        Great monitor for the price"
      ]
     },
     "execution_count": 67,
     "metadata": {
      "tags": []
     },
     "output_type": "execute_result"
    }
   ],
   "source": [
    "df.head(26)"
   ]
  },
  {
   "cell_type": "code",
   "execution_count": 72,
   "metadata": {
    "id": "tPxO6djxyeYQ"
   },
   "outputs": [],
   "source": [
    "df['Ratings'].replace(['4.1 out of 5','4.3 out of 5','4.4 out of 5'],['4 out of 5','4 out of 5','5 out of 5'], inplace = True)"
   ]
  },
  {
   "cell_type": "code",
   "execution_count": 73,
   "metadata": {
    "id": "emQt9e6tyhA2"
   },
   "outputs": [],
   "source": [
    "df['Ratings'].replace(['3.6  out of 5','4.3 out of 5'],['4 out of 5','4 out of 5'], inplace = True)"
   ]
  },
  {
   "cell_type": "code",
   "execution_count": 74,
   "metadata": {
    "id": "QqyGtJlmbNzm"
   },
   "outputs": [],
   "source": [
    "df['Ratings'].replace(['4.5 out of 5','2.9 out of 5','3.8 out of 5'],['5 out of 5','3 out of 5','4 out of 5'], inplace = True)"
   ]
  },
  {
   "cell_type": "code",
   "execution_count": 77,
   "metadata": {
    "id": "N_PhGZj4NumZ"
   },
   "outputs": [],
   "source": [
    "df['Ratings'].replace(['3.6 out of 5','4.9 out of 5','3.9 out of 5'],['4 out of 5','5 out of 5','4 out of 5'], inplace = True)"
   ]
  },
  {
   "cell_type": "code",
   "execution_count": 78,
   "metadata": {
    "id": "-YMAeMsuOAr0"
   },
   "outputs": [],
   "source": [
    "df['Ratings'].replace(['4.2 out of 5'],['4 out of 5'], inplace = True)"
   ]
  },
  {
   "cell_type": "code",
   "execution_count": 79,
   "metadata": {
    "colab": {
     "base_uri": "https://localhost:8080/",
     "height": 855
    },
    "id": "xUu2qzV4yqSD",
    "outputId": "9e0369bb-b590-41aa-c99a-12c6a0c35c60"
   },
   "outputs": [
    {
     "data": {
      "text/html": [
       "<div>\n",
       "<style scoped>\n",
       "    .dataframe tbody tr th:only-of-type {\n",
       "        vertical-align: middle;\n",
       "    }\n",
       "\n",
       "    .dataframe tbody tr th {\n",
       "        vertical-align: top;\n",
       "    }\n",
       "\n",
       "    .dataframe thead th {\n",
       "        text-align: right;\n",
       "    }\n",
       "</style>\n",
       "<table border=\"1\" class=\"dataframe\">\n",
       "  <thead>\n",
       "    <tr style=\"text-align: right;\">\n",
       "      <th></th>\n",
       "      <th>Ratings</th>\n",
       "      <th>Reviews</th>\n",
       "    </tr>\n",
       "  </thead>\n",
       "  <tbody>\n",
       "    <tr>\n",
       "      <th>0</th>\n",
       "      <td>4 out of 5</td>\n",
       "      <td>M7 👎🏿 M5 👍🏿</td>\n",
       "    </tr>\n",
       "    <tr>\n",
       "      <th>1</th>\n",
       "      <td>5 out of 5</td>\n",
       "      <td>Not satisfied</td>\n",
       "    </tr>\n",
       "    <tr>\n",
       "      <th>2</th>\n",
       "      <td>4 out of 5</td>\n",
       "      <td>a very good monitor for programming / office use</td>\n",
       "    </tr>\n",
       "    <tr>\n",
       "      <th>3</th>\n",
       "      <td>5 out of 5</td>\n",
       "      <td>There is Backlight Glow (Not Leaking / Normal ...</td>\n",
       "    </tr>\n",
       "    <tr>\n",
       "      <th>4</th>\n",
       "      <td>4 out of 5</td>\n",
       "      <td>This is NOT a Full HD (1080p) Monitor</td>\n",
       "    </tr>\n",
       "    <tr>\n",
       "      <th>5</th>\n",
       "      <td>4 out of 5</td>\n",
       "      <td>Dead pixels and denied replacement</td>\n",
       "    </tr>\n",
       "    <tr>\n",
       "      <th>6</th>\n",
       "      <td>5 out of 5</td>\n",
       "      <td>Best 21\" 1080P Monitor, In-Depth review.</td>\n",
       "    </tr>\n",
       "    <tr>\n",
       "      <th>7</th>\n",
       "      <td>4 out of 5</td>\n",
       "      <td>A very Nice and decent Product but.....</td>\n",
       "    </tr>\n",
       "    <tr>\n",
       "      <th>8</th>\n",
       "      <td>5 out of 5</td>\n",
       "      <td>A good 4k monitor for work</td>\n",
       "    </tr>\n",
       "    <tr>\n",
       "      <th>9</th>\n",
       "      <td>5 out of 5</td>\n",
       "      <td>Worth every penny</td>\n",
       "    </tr>\n",
       "    <tr>\n",
       "      <th>10</th>\n",
       "      <td>3 out of 5</td>\n",
       "      <td>Not ips and full HD</td>\n",
       "    </tr>\n",
       "    <tr>\n",
       "      <th>11</th>\n",
       "      <td>4 out of 5</td>\n",
       "      <td>Not Full HD, texts doesn't appear smooth. Go f...</td>\n",
       "    </tr>\n",
       "    <tr>\n",
       "      <th>12</th>\n",
       "      <td>3 out of 5</td>\n",
       "      <td>Monitor not working</td>\n",
       "    </tr>\n",
       "    <tr>\n",
       "      <th>13</th>\n",
       "      <td>5 out of 5</td>\n",
       "      <td>Monitors shouldn't be compared just on paper. ...</td>\n",
       "    </tr>\n",
       "    <tr>\n",
       "      <th>14</th>\n",
       "      <td>5 out of 5</td>\n",
       "      <td>Dejected for the first time in Amazon &amp; LG</td>\n",
       "    </tr>\n",
       "    <tr>\n",
       "      <th>15</th>\n",
       "      <td>4 out of 5</td>\n",
       "      <td>Well built monitor that could have had better ...</td>\n",
       "    </tr>\n",
       "    <tr>\n",
       "      <th>16</th>\n",
       "      <td>4 out of 5</td>\n",
       "      <td>A good budget QHD 2K Monitor, but has serious ...</td>\n",
       "    </tr>\n",
       "    <tr>\n",
       "      <th>17</th>\n",
       "      <td>4 out of 5</td>\n",
       "      <td>Does not support regular power socket</td>\n",
       "    </tr>\n",
       "    <tr>\n",
       "      <th>18</th>\n",
       "      <td>5 out of 5</td>\n",
       "      <td>Does what it says...</td>\n",
       "    </tr>\n",
       "    <tr>\n",
       "      <th>19</th>\n",
       "      <td>4 out of 5</td>\n",
       "      <td>Superb choice.</td>\n",
       "    </tr>\n",
       "    <tr>\n",
       "      <th>20</th>\n",
       "      <td>5 out of 5</td>\n",
       "      <td>Overall Experience is good</td>\n",
       "    </tr>\n",
       "    <tr>\n",
       "      <th>21</th>\n",
       "      <td>NO rating</td>\n",
       "      <td>NO rating</td>\n",
       "    </tr>\n",
       "    <tr>\n",
       "      <th>22</th>\n",
       "      <td>5 out of 5</td>\n",
       "      <td>Best 21\" 1080P Monitor, In-Depth review.</td>\n",
       "    </tr>\n",
       "    <tr>\n",
       "      <th>23</th>\n",
       "      <td>5 out of 5</td>\n",
       "      <td>picture quality is good but why this 16A power...</td>\n",
       "    </tr>\n",
       "    <tr>\n",
       "      <th>24</th>\n",
       "      <td>4 out of 5</td>\n",
       "      <td>Perfect Condition. Budget Monitor. Works Fine ...</td>\n",
       "    </tr>\n",
       "    <tr>\n",
       "      <th>25</th>\n",
       "      <td>4 out of 5</td>\n",
       "      <td>Great monitor for the price</td>\n",
       "    </tr>\n",
       "  </tbody>\n",
       "</table>\n",
       "</div>"
      ],
      "text/plain": [
       "       Ratings                                            Reviews\n",
       "0   4 out of 5                                        M7 👎🏿 M5 👍🏿\n",
       "1   5 out of 5                                      Not satisfied\n",
       "2   4 out of 5   a very good monitor for programming / office use\n",
       "3   5 out of 5  There is Backlight Glow (Not Leaking / Normal ...\n",
       "4   4 out of 5              This is NOT a Full HD (1080p) Monitor\n",
       "5   4 out of 5                 Dead pixels and denied replacement\n",
       "6   5 out of 5           Best 21\" 1080P Monitor, In-Depth review.\n",
       "7   4 out of 5            A very Nice and decent Product but.....\n",
       "8   5 out of 5                         A good 4k monitor for work\n",
       "9   5 out of 5                                  Worth every penny\n",
       "10  3 out of 5                                Not ips and full HD\n",
       "11  4 out of 5  Not Full HD, texts doesn't appear smooth. Go f...\n",
       "12  3 out of 5                                Monitor not working\n",
       "13  5 out of 5  Monitors shouldn't be compared just on paper. ...\n",
       "14  5 out of 5         Dejected for the first time in Amazon & LG\n",
       "15  4 out of 5  Well built monitor that could have had better ...\n",
       "16  4 out of 5  A good budget QHD 2K Monitor, but has serious ...\n",
       "17  4 out of 5              Does not support regular power socket\n",
       "18  5 out of 5                               Does what it says...\n",
       "19  4 out of 5                                     Superb choice.\n",
       "20  5 out of 5                         Overall Experience is good\n",
       "21   NO rating                                          NO rating\n",
       "22  5 out of 5           Best 21\" 1080P Monitor, In-Depth review.\n",
       "23  5 out of 5  picture quality is good but why this 16A power...\n",
       "24  4 out of 5  Perfect Condition. Budget Monitor. Works Fine ...\n",
       "25  4 out of 5                        Great monitor for the price"
      ]
     },
     "execution_count": 79,
     "metadata": {
      "tags": []
     },
     "output_type": "execute_result"
    }
   ],
   "source": [
    "df.head(26)"
   ]
  },
  {
   "cell_type": "code",
   "execution_count": 80,
   "metadata": {
    "colab": {
     "base_uri": "https://localhost:8080/"
    },
    "id": "k0f-CpUkyu1J",
    "outputId": "00a38947-35f7-4379-c535-41285cf7ee17"
   },
   "outputs": [
    {
     "data": {
      "text/plain": [
       "4 out of 5    13\n",
       "5 out of 5    11\n",
       "3 out of 5     2\n",
       "NO rating      1\n",
       "Name: Ratings, dtype: int64"
      ]
     },
     "execution_count": 80,
     "metadata": {
      "tags": []
     },
     "output_type": "execute_result"
    }
   ],
   "source": [
    "df['Ratings'].value_counts()"
   ]
  },
  {
   "cell_type": "code",
   "execution_count": 82,
   "metadata": {
    "id": "5MA21G3a0HwP"
   },
   "outputs": [],
   "source": [
    "import preprocess_kgptalkie as ps\n",
    "import re"
   ]
  },
  {
   "cell_type": "code",
   "execution_count": 83,
   "metadata": {
    "id": "Yvn6fePm0R6L"
   },
   "outputs": [],
   "source": [
    "def get_clean(x):\n",
    "    x = str(x).lower().replace('\\\\', '').replace('_', ' ')\n",
    "    x = ps.cont_exp(x)\n",
    "    x = ps.remove_emails(x)\n",
    "    x = ps.remove_urls(x)\n",
    "    x = ps.remove_html_tags(x)\n",
    "    x = ps.remove_accented_chars(x)\n",
    "    x = ps.remove_special_chars(x)\n",
    "    x = re.sub(\"(.)\\\\1{2,}\", \"\\\\1\", x)\n",
    "    return x"
   ]
  },
  {
   "cell_type": "code",
   "execution_count": 84,
   "metadata": {
    "id": "m_dIHo7t0ez7"
   },
   "outputs": [],
   "source": [
    "df['Reviews'] = df['Reviews'].apply(lambda x : get_clean(x))"
   ]
  },
  {
   "cell_type": "code",
   "execution_count": 85,
   "metadata": {
    "colab": {
     "base_uri": "https://localhost:8080/",
     "height": 204
    },
    "id": "nz1CXx0z0y3R",
    "outputId": "e16f7574-de76-47a1-9216-529ec3573d04"
   },
   "outputs": [
    {
     "data": {
      "text/html": [
       "<div>\n",
       "<style scoped>\n",
       "    .dataframe tbody tr th:only-of-type {\n",
       "        vertical-align: middle;\n",
       "    }\n",
       "\n",
       "    .dataframe tbody tr th {\n",
       "        vertical-align: top;\n",
       "    }\n",
       "\n",
       "    .dataframe thead th {\n",
       "        text-align: right;\n",
       "    }\n",
       "</style>\n",
       "<table border=\"1\" class=\"dataframe\">\n",
       "  <thead>\n",
       "    <tr style=\"text-align: right;\">\n",
       "      <th></th>\n",
       "      <th>Ratings</th>\n",
       "      <th>Reviews</th>\n",
       "    </tr>\n",
       "  </thead>\n",
       "  <tbody>\n",
       "    <tr>\n",
       "      <th>0</th>\n",
       "      <td>4 out of 5</td>\n",
       "      <td>m7 m5</td>\n",
       "    </tr>\n",
       "    <tr>\n",
       "      <th>1</th>\n",
       "      <td>5 out of 5</td>\n",
       "      <td>not satisfied</td>\n",
       "    </tr>\n",
       "    <tr>\n",
       "      <th>2</th>\n",
       "      <td>4 out of 5</td>\n",
       "      <td>a very good monitor for programming office use</td>\n",
       "    </tr>\n",
       "    <tr>\n",
       "      <th>3</th>\n",
       "      <td>5 out of 5</td>\n",
       "      <td>there is backlight glow not leaking normal for...</td>\n",
       "    </tr>\n",
       "    <tr>\n",
       "      <th>4</th>\n",
       "      <td>4 out of 5</td>\n",
       "      <td>this is not a full hd 1080p monitor</td>\n",
       "    </tr>\n",
       "  </tbody>\n",
       "</table>\n",
       "</div>"
      ],
      "text/plain": [
       "      Ratings                                            Reviews\n",
       "0  4 out of 5                                              m7 m5\n",
       "1  5 out of 5                                      not satisfied\n",
       "2  4 out of 5     a very good monitor for programming office use\n",
       "3  5 out of 5  there is backlight glow not leaking normal for...\n",
       "4  4 out of 5                this is not a full hd 1080p monitor"
      ]
     },
     "execution_count": 85,
     "metadata": {
      "tags": []
     },
     "output_type": "execute_result"
    }
   ],
   "source": [
    "df.head()"
   ]
  },
  {
   "cell_type": "code",
   "execution_count": 86,
   "metadata": {
    "id": "WGaQ3puN04ab"
   },
   "outputs": [],
   "source": [
    "# TFIDF and LinearSVC Algorithm\n",
    "from sklearn.feature_extraction.text import TfidfVectorizer\n",
    "from sklearn.model_selection import train_test_split\n",
    "from sklearn.svm import LinearSVC\n",
    "from sklearn.metrics import classification_report"
   ]
  },
  {
   "cell_type": "code",
   "execution_count": 87,
   "metadata": {
    "id": "QblHCh9l1lEN"
   },
   "outputs": [],
   "source": [
    "tfidf = TfidfVectorizer(max_features=5, ngram_range=(1,3),analyzer='char')"
   ]
  },
  {
   "cell_type": "code",
   "execution_count": 88,
   "metadata": {
    "id": "EQrzQieT18IK"
   },
   "outputs": [],
   "source": [
    "x=tfidf.fit_transform(df['Reviews'])\n",
    "y=df['Ratings']"
   ]
  },
  {
   "cell_type": "code",
   "execution_count": 89,
   "metadata": {
    "colab": {
     "base_uri": "https://localhost:8080/"
    },
    "id": "YLKDTG9X2KYh",
    "outputId": "5adfba9a-30b2-4e90-9952-68b1fca6779c"
   },
   "outputs": [
    {
     "data": {
      "text/plain": [
       "((27, 5), (27,))"
      ]
     },
     "execution_count": 89,
     "metadata": {
      "tags": []
     },
     "output_type": "execute_result"
    }
   ],
   "source": [
    "x.shape, y.shape"
   ]
  },
  {
   "cell_type": "code",
   "execution_count": 90,
   "metadata": {
    "id": "B5wFBDFW2SxV"
   },
   "outputs": [],
   "source": [
    "x_train, x_test, y_train, y_test = train_test_split(x,y,test_size=0.2, random_state=0)"
   ]
  },
  {
   "cell_type": "code",
   "execution_count": 91,
   "metadata": {
    "colab": {
     "base_uri": "https://localhost:8080/"
    },
    "id": "W6rKSzxu2hIC",
    "outputId": "3abe0acf-0dd5-4267-b44d-8e3daf649100"
   },
   "outputs": [
    {
     "data": {
      "text/plain": [
       "(21, 5)"
      ]
     },
     "execution_count": 91,
     "metadata": {
      "tags": []
     },
     "output_type": "execute_result"
    }
   ],
   "source": [
    "x_train.shape"
   ]
  },
  {
   "cell_type": "code",
   "execution_count": 92,
   "metadata": {
    "colab": {
     "base_uri": "https://localhost:8080/"
    },
    "id": "vY_r93Cb2o7-",
    "outputId": "f9cb85e6-748d-4834-d842-78684822c805"
   },
   "outputs": [
    {
     "data": {
      "text/plain": [
       "LinearSVC(C=10, class_weight='balanced', dual=True, fit_intercept=True,\n",
       "          intercept_scaling=1, loss='squared_hinge', max_iter=1000,\n",
       "          multi_class='ovr', penalty='l2', random_state=None, tol=0.0001,\n",
       "          verbose=0)"
      ]
     },
     "execution_count": 92,
     "metadata": {
      "tags": []
     },
     "output_type": "execute_result"
    }
   ],
   "source": [
    "clf=LinearSVC(C=10,class_weight='balanced')\n",
    "clf.fit(x_train, y_train)"
   ]
  },
  {
   "cell_type": "code",
   "execution_count": 93,
   "metadata": {
    "id": "SVcerUQF30GU"
   },
   "outputs": [],
   "source": [
    "y_pred=clf.predict(x_test)"
   ]
  },
  {
   "cell_type": "code",
   "execution_count": 94,
   "metadata": {
    "colab": {
     "base_uri": "https://localhost:8080/"
    },
    "id": "sfKxSLo736bq",
    "outputId": "e780ee7c-1cdd-4091-be62-9d4f1f8df8f0"
   },
   "outputs": [
    {
     "name": "stdout",
     "output_type": "stream",
     "text": [
      "              precision    recall  f1-score   support\n",
      "\n",
      "  4 out of 5       1.00      0.20      0.33         5\n",
      "  5 out of 5       0.20      1.00      0.33         1\n",
      "\n",
      "    accuracy                           0.33         6\n",
      "   macro avg       0.60      0.60      0.33         6\n",
      "weighted avg       0.87      0.33      0.33         6\n",
      "\n"
     ]
    }
   ],
   "source": [
    "print(classification_report(y_test, y_pred))"
   ]
  },
  {
   "cell_type": "code",
   "execution_count": 59,
   "metadata": {
    "colab": {
     "base_uri": "https://localhost:8080/"
    },
    "id": "fihxdRLz4KT0",
    "outputId": "addfffc2-ffe3-44b6-a2a4-a436919ad627"
   },
   "outputs": [
    {
     "data": {
      "text/plain": [
       "array(['4 out of 5'], dtype=object)"
      ]
     },
     "execution_count": 59,
     "metadata": {
      "tags": []
     },
     "output_type": "execute_result"
    }
   ],
   "source": [
    "x='this product is realy good. i like it'\n",
    "x=get_clean(x)\n",
    "vec=tfidf.transform([x])\n",
    "clf.predict(vec)"
   ]
  }
 ],
 "metadata": {
  "colab": {
   "collapsed_sections": [],
   "name": "nlp7",
   "provenance": []
  },
  "kernelspec": {
   "display_name": "Python 3",
   "language": "python",
   "name": "python3"
  },
  "language_info": {
   "codemirror_mode": {
    "name": "ipython",
    "version": 3
   },
   "file_extension": ".py",
   "mimetype": "text/x-python",
   "name": "python",
   "nbconvert_exporter": "python",
   "pygments_lexer": "ipython3",
   "version": "3.7.3"
  }
 },
 "nbformat": 4,
 "nbformat_minor": 1
}
