{
 "cells": [
  {
   "cell_type": "code",
   "execution_count": 1,
   "metadata": {
    "id": "Pt2oA_IgtyRg"
   },
   "outputs": [],
   "source": [
    "import numpy as np #for Data Analysis\n",
    "import pandas as pd #for scientific computation"
   ]
  },
  {
   "cell_type": "code",
   "execution_count": 2,
   "metadata": {
    "colab": {
     "base_uri": "https://localhost:8080/"
    },
    "id": "wSOE0wHVt65A",
    "outputId": "59ac081d-0c48-4f2c-deee-b8abc0f517e1"
   },
   "outputs": [
    {
     "name": "stdout",
     "output_type": "stream",
     "text": [
      "Mounted at /content/grive\n"
     ]
    }
   ],
   "source": [
    "from google.colab import drive\n",
    "drive.mount('/content/grive')"
   ]
  },
  {
   "cell_type": "code",
   "execution_count": 4,
   "metadata": {
    "id": "2redSSmkw2s3"
   },
   "outputs": [],
   "source": [
    "df=pd.read_csv('/content/grive/My Drive/amazon_ratings_reviews5.csv')"
   ]
  },
  {
   "cell_type": "code",
   "execution_count": 5,
   "metadata": {
    "colab": {
     "base_uri": "https://localhost:8080/",
     "height": 886
    },
    "id": "n32u6UpNyFZI",
    "outputId": "69edd28e-d811-4a6e-83d0-03786bafa906"
   },
   "outputs": [
    {
     "data": {
      "text/html": [
       "<div>\n",
       "<style scoped>\n",
       "    .dataframe tbody tr th:only-of-type {\n",
       "        vertical-align: middle;\n",
       "    }\n",
       "\n",
       "    .dataframe tbody tr th {\n",
       "        vertical-align: top;\n",
       "    }\n",
       "\n",
       "    .dataframe thead th {\n",
       "        text-align: right;\n",
       "    }\n",
       "</style>\n",
       "<table border=\"1\" class=\"dataframe\">\n",
       "  <thead>\n",
       "    <tr style=\"text-align: right;\">\n",
       "      <th></th>\n",
       "      <th>Ratings</th>\n",
       "      <th>Reviews</th>\n",
       "    </tr>\n",
       "  </thead>\n",
       "  <tbody>\n",
       "    <tr>\n",
       "      <th>0</th>\n",
       "      <td>3.9 out of 5</td>\n",
       "      <td>Good Product... Though Software Improvements a...</td>\n",
       "    </tr>\n",
       "    <tr>\n",
       "      <th>1</th>\n",
       "      <td>3.9 out of 5</td>\n",
       "      <td>Don't buy waste of money</td>\n",
       "    </tr>\n",
       "    <tr>\n",
       "      <th>2</th>\n",
       "      <td>4.1 out of 5</td>\n",
       "      <td>4.5 ⭐Awesome design, good specs and features. ...</td>\n",
       "    </tr>\n",
       "    <tr>\n",
       "      <th>3</th>\n",
       "      <td>4.1 out of 5</td>\n",
       "      <td>Best features and looks in the business</td>\n",
       "    </tr>\n",
       "    <tr>\n",
       "      <th>4</th>\n",
       "      <td>4.2 out of 5</td>\n",
       "      <td>Poor Wrist Sense ..</td>\n",
       "    </tr>\n",
       "    <tr>\n",
       "      <th>5</th>\n",
       "      <td>4.2 out of 5</td>\n",
       "      <td>Poor Wrist Sense ..</td>\n",
       "    </tr>\n",
       "    <tr>\n",
       "      <th>6</th>\n",
       "      <td>4.7 out of 5</td>\n",
       "      <td>It is the best smartwatch iPhone users can get!</td>\n",
       "    </tr>\n",
       "    <tr>\n",
       "      <th>7</th>\n",
       "      <td>4.4 out of 5</td>\n",
       "      <td>Fitbit to Samsung Journey. THIS IS AMAZING FOL...</td>\n",
       "    </tr>\n",
       "    <tr>\n",
       "      <th>8</th>\n",
       "      <td>4.4 out of 5</td>\n",
       "      <td>DETAILED Review after 1 Month of Use + Battery...</td>\n",
       "    </tr>\n",
       "    <tr>\n",
       "      <th>9</th>\n",
       "      <td>3.7 out of 5</td>\n",
       "      <td>Awesome, affordable Garmin</td>\n",
       "    </tr>\n",
       "    <tr>\n",
       "      <th>10</th>\n",
       "      <td>4.1 out of 5</td>\n",
       "      <td>4.5 ⭐Awesome design, good specs and features. ...</td>\n",
       "    </tr>\n",
       "    <tr>\n",
       "      <th>11</th>\n",
       "      <td>4.3 out of 5</td>\n",
       "      <td>An amazingly feature packed gadget, value for ...</td>\n",
       "    </tr>\n",
       "    <tr>\n",
       "      <th>12</th>\n",
       "      <td>4 out of 5</td>\n",
       "      <td>NO rating</td>\n",
       "    </tr>\n",
       "    <tr>\n",
       "      <th>13</th>\n",
       "      <td>NO rating</td>\n",
       "      <td>Worst product and Amazon replacement is not wo...</td>\n",
       "    </tr>\n",
       "    <tr>\n",
       "      <th>14</th>\n",
       "      <td>3.9 out of 5</td>\n",
       "      <td>NO rating</td>\n",
       "    </tr>\n",
       "    <tr>\n",
       "      <th>15</th>\n",
       "      <td>NO rating</td>\n",
       "      <td>Not at all satisfied!!!! Be careful</td>\n",
       "    </tr>\n",
       "    <tr>\n",
       "      <th>16</th>\n",
       "      <td>4.2 out of 5</td>\n",
       "      <td>Completely unsatisfied</td>\n",
       "    </tr>\n",
       "    <tr>\n",
       "      <th>17</th>\n",
       "      <td>4 out of 5</td>\n",
       "      <td>Complete detailed review and comparison with M...</td>\n",
       "    </tr>\n",
       "    <tr>\n",
       "      <th>18</th>\n",
       "      <td>4.4 out of 5</td>\n",
       "      <td>Best features and looks in the business</td>\n",
       "    </tr>\n",
       "    <tr>\n",
       "      <th>19</th>\n",
       "      <td>4.1 out of 5</td>\n",
       "      <td>Spo2 and heartbeat gives non.living things als...</td>\n",
       "    </tr>\n",
       "    <tr>\n",
       "      <th>20</th>\n",
       "      <td>3.9 out of 5</td>\n",
       "      <td>Bussniss</td>\n",
       "    </tr>\n",
       "    <tr>\n",
       "      <th>21</th>\n",
       "      <td>3 out of 5</td>\n",
       "      <td>What are you waiting for .. just buy it!!</td>\n",
       "    </tr>\n",
       "    <tr>\n",
       "      <th>22</th>\n",
       "      <td>4.1 out of 5</td>\n",
       "      <td>Waste of money</td>\n",
       "    </tr>\n",
       "    <tr>\n",
       "      <th>23</th>\n",
       "      <td>3.2 out of 5</td>\n",
       "      <td>Not Happ with product, other brand products is...</td>\n",
       "    </tr>\n",
       "    <tr>\n",
       "      <th>24</th>\n",
       "      <td>3.8 out of 5</td>\n",
       "      <td>NO rating</td>\n",
       "    </tr>\n",
       "    <tr>\n",
       "      <th>25</th>\n",
       "      <td>4 out of 5</td>\n",
       "      <td>Poor Wrist Sense ..</td>\n",
       "    </tr>\n",
       "    <tr>\n",
       "      <th>26</th>\n",
       "      <td>NO rating</td>\n",
       "      <td>4.5 ⭐Awesome design, good specs and features. ...</td>\n",
       "    </tr>\n",
       "  </tbody>\n",
       "</table>\n",
       "</div>"
      ],
      "text/plain": [
       "         Ratings                                            Reviews\n",
       "0   3.9 out of 5  Good Product... Though Software Improvements a...\n",
       "1   3.9 out of 5                           Don't buy waste of money\n",
       "2   4.1 out of 5  4.5 ⭐Awesome design, good specs and features. ...\n",
       "3   4.1 out of 5            Best features and looks in the business\n",
       "4   4.2 out of 5                                Poor Wrist Sense ..\n",
       "5   4.2 out of 5                                Poor Wrist Sense ..\n",
       "6   4.7 out of 5    It is the best smartwatch iPhone users can get!\n",
       "7   4.4 out of 5  Fitbit to Samsung Journey. THIS IS AMAZING FOL...\n",
       "8   4.4 out of 5  DETAILED Review after 1 Month of Use + Battery...\n",
       "9   3.7 out of 5                         Awesome, affordable Garmin\n",
       "10  4.1 out of 5  4.5 ⭐Awesome design, good specs and features. ...\n",
       "11  4.3 out of 5  An amazingly feature packed gadget, value for ...\n",
       "12    4 out of 5                                          NO rating\n",
       "13     NO rating  Worst product and Amazon replacement is not wo...\n",
       "14  3.9 out of 5                                          NO rating\n",
       "15     NO rating                Not at all satisfied!!!! Be careful\n",
       "16  4.2 out of 5                             Completely unsatisfied\n",
       "17    4 out of 5  Complete detailed review and comparison with M...\n",
       "18  4.4 out of 5            Best features and looks in the business\n",
       "19  4.1 out of 5  Spo2 and heartbeat gives non.living things als...\n",
       "20  3.9 out of 5                                           Bussniss\n",
       "21    3 out of 5          What are you waiting for .. just buy it!!\n",
       "22  4.1 out of 5                                     Waste of money\n",
       "23  3.2 out of 5  Not Happ with product, other brand products is...\n",
       "24  3.8 out of 5                                          NO rating\n",
       "25    4 out of 5                                Poor Wrist Sense ..\n",
       "26     NO rating  4.5 ⭐Awesome design, good specs and features. ..."
      ]
     },
     "execution_count": 5,
     "metadata": {
      "tags": []
     },
     "output_type": "execute_result"
    }
   ],
   "source": [
    "df.head(27)"
   ]
  },
  {
   "cell_type": "code",
   "execution_count": 6,
   "metadata": {
    "id": "tPxO6djxyeYQ"
   },
   "outputs": [],
   "source": [
    "df['Ratings'].replace(['3.9 out of 5','4.1 out of 5','4.2 out of 5'],['4 out of 5','4 out of 5','4 out of 5'], inplace = True)"
   ]
  },
  {
   "cell_type": "code",
   "execution_count": 8,
   "metadata": {
    "id": "emQt9e6tyhA2"
   },
   "outputs": [],
   "source": [
    "df['Ratings'].replace(['4.7  out of 5','4.4 out of 5'],['5 out of 5','4 out of 5'], inplace = True)"
   ]
  },
  {
   "cell_type": "code",
   "execution_count": 9,
   "metadata": {
    "id": "QqyGtJlmbNzm"
   },
   "outputs": [],
   "source": [
    "df['Ratings'].replace(['3.7 out of 5','4.3 out of 5','3.9 out of 5'],['4 out of 5','4 out of 5','4 out of 5'], inplace = True)"
   ]
  },
  {
   "cell_type": "code",
   "execution_count": 11,
   "metadata": {
    "id": "I1j13IEW_7-1"
   },
   "outputs": [],
   "source": [
    "df['Ratings'].replace(['4.7 out of 5','3.2 out of 5','3.8 out of 5'],['5 out of 5','3 out of 5','4 out of 5'], inplace = True)"
   ]
  },
  {
   "cell_type": "code",
   "execution_count": 12,
   "metadata": {
    "colab": {
     "base_uri": "https://localhost:8080/",
     "height": 855
    },
    "id": "xUu2qzV4yqSD",
    "outputId": "59e9dbe1-ca98-421f-959f-cb13ba8246b4"
   },
   "outputs": [
    {
     "data": {
      "text/html": [
       "<div>\n",
       "<style scoped>\n",
       "    .dataframe tbody tr th:only-of-type {\n",
       "        vertical-align: middle;\n",
       "    }\n",
       "\n",
       "    .dataframe tbody tr th {\n",
       "        vertical-align: top;\n",
       "    }\n",
       "\n",
       "    .dataframe thead th {\n",
       "        text-align: right;\n",
       "    }\n",
       "</style>\n",
       "<table border=\"1\" class=\"dataframe\">\n",
       "  <thead>\n",
       "    <tr style=\"text-align: right;\">\n",
       "      <th></th>\n",
       "      <th>Ratings</th>\n",
       "      <th>Reviews</th>\n",
       "    </tr>\n",
       "  </thead>\n",
       "  <tbody>\n",
       "    <tr>\n",
       "      <th>0</th>\n",
       "      <td>4 out of 5</td>\n",
       "      <td>Good Product... Though Software Improvements a...</td>\n",
       "    </tr>\n",
       "    <tr>\n",
       "      <th>1</th>\n",
       "      <td>4 out of 5</td>\n",
       "      <td>Don't buy waste of money</td>\n",
       "    </tr>\n",
       "    <tr>\n",
       "      <th>2</th>\n",
       "      <td>4 out of 5</td>\n",
       "      <td>4.5 ⭐Awesome design, good specs and features. ...</td>\n",
       "    </tr>\n",
       "    <tr>\n",
       "      <th>3</th>\n",
       "      <td>4 out of 5</td>\n",
       "      <td>Best features and looks in the business</td>\n",
       "    </tr>\n",
       "    <tr>\n",
       "      <th>4</th>\n",
       "      <td>4 out of 5</td>\n",
       "      <td>Poor Wrist Sense ..</td>\n",
       "    </tr>\n",
       "    <tr>\n",
       "      <th>5</th>\n",
       "      <td>4 out of 5</td>\n",
       "      <td>Poor Wrist Sense ..</td>\n",
       "    </tr>\n",
       "    <tr>\n",
       "      <th>6</th>\n",
       "      <td>5 out of 5</td>\n",
       "      <td>It is the best smartwatch iPhone users can get!</td>\n",
       "    </tr>\n",
       "    <tr>\n",
       "      <th>7</th>\n",
       "      <td>4 out of 5</td>\n",
       "      <td>Fitbit to Samsung Journey. THIS IS AMAZING FOL...</td>\n",
       "    </tr>\n",
       "    <tr>\n",
       "      <th>8</th>\n",
       "      <td>4 out of 5</td>\n",
       "      <td>DETAILED Review after 1 Month of Use + Battery...</td>\n",
       "    </tr>\n",
       "    <tr>\n",
       "      <th>9</th>\n",
       "      <td>4 out of 5</td>\n",
       "      <td>Awesome, affordable Garmin</td>\n",
       "    </tr>\n",
       "    <tr>\n",
       "      <th>10</th>\n",
       "      <td>4 out of 5</td>\n",
       "      <td>4.5 ⭐Awesome design, good specs and features. ...</td>\n",
       "    </tr>\n",
       "    <tr>\n",
       "      <th>11</th>\n",
       "      <td>4 out of 5</td>\n",
       "      <td>An amazingly feature packed gadget, value for ...</td>\n",
       "    </tr>\n",
       "    <tr>\n",
       "      <th>12</th>\n",
       "      <td>4 out of 5</td>\n",
       "      <td>NO rating</td>\n",
       "    </tr>\n",
       "    <tr>\n",
       "      <th>13</th>\n",
       "      <td>NO rating</td>\n",
       "      <td>Worst product and Amazon replacement is not wo...</td>\n",
       "    </tr>\n",
       "    <tr>\n",
       "      <th>14</th>\n",
       "      <td>4 out of 5</td>\n",
       "      <td>NO rating</td>\n",
       "    </tr>\n",
       "    <tr>\n",
       "      <th>15</th>\n",
       "      <td>NO rating</td>\n",
       "      <td>Not at all satisfied!!!! Be careful</td>\n",
       "    </tr>\n",
       "    <tr>\n",
       "      <th>16</th>\n",
       "      <td>4 out of 5</td>\n",
       "      <td>Completely unsatisfied</td>\n",
       "    </tr>\n",
       "    <tr>\n",
       "      <th>17</th>\n",
       "      <td>4 out of 5</td>\n",
       "      <td>Complete detailed review and comparison with M...</td>\n",
       "    </tr>\n",
       "    <tr>\n",
       "      <th>18</th>\n",
       "      <td>4 out of 5</td>\n",
       "      <td>Best features and looks in the business</td>\n",
       "    </tr>\n",
       "    <tr>\n",
       "      <th>19</th>\n",
       "      <td>4 out of 5</td>\n",
       "      <td>Spo2 and heartbeat gives non.living things als...</td>\n",
       "    </tr>\n",
       "    <tr>\n",
       "      <th>20</th>\n",
       "      <td>4 out of 5</td>\n",
       "      <td>Bussniss</td>\n",
       "    </tr>\n",
       "    <tr>\n",
       "      <th>21</th>\n",
       "      <td>3 out of 5</td>\n",
       "      <td>What are you waiting for .. just buy it!!</td>\n",
       "    </tr>\n",
       "    <tr>\n",
       "      <th>22</th>\n",
       "      <td>4 out of 5</td>\n",
       "      <td>Waste of money</td>\n",
       "    </tr>\n",
       "    <tr>\n",
       "      <th>23</th>\n",
       "      <td>3 out of 5</td>\n",
       "      <td>Not Happ with product, other brand products is...</td>\n",
       "    </tr>\n",
       "    <tr>\n",
       "      <th>24</th>\n",
       "      <td>4 out of 5</td>\n",
       "      <td>NO rating</td>\n",
       "    </tr>\n",
       "    <tr>\n",
       "      <th>25</th>\n",
       "      <td>4 out of 5</td>\n",
       "      <td>Poor Wrist Sense ..</td>\n",
       "    </tr>\n",
       "  </tbody>\n",
       "</table>\n",
       "</div>"
      ],
      "text/plain": [
       "       Ratings                                            Reviews\n",
       "0   4 out of 5  Good Product... Though Software Improvements a...\n",
       "1   4 out of 5                           Don't buy waste of money\n",
       "2   4 out of 5  4.5 ⭐Awesome design, good specs and features. ...\n",
       "3   4 out of 5            Best features and looks in the business\n",
       "4   4 out of 5                                Poor Wrist Sense ..\n",
       "5   4 out of 5                                Poor Wrist Sense ..\n",
       "6   5 out of 5    It is the best smartwatch iPhone users can get!\n",
       "7   4 out of 5  Fitbit to Samsung Journey. THIS IS AMAZING FOL...\n",
       "8   4 out of 5  DETAILED Review after 1 Month of Use + Battery...\n",
       "9   4 out of 5                         Awesome, affordable Garmin\n",
       "10  4 out of 5  4.5 ⭐Awesome design, good specs and features. ...\n",
       "11  4 out of 5  An amazingly feature packed gadget, value for ...\n",
       "12  4 out of 5                                          NO rating\n",
       "13   NO rating  Worst product and Amazon replacement is not wo...\n",
       "14  4 out of 5                                          NO rating\n",
       "15   NO rating                Not at all satisfied!!!! Be careful\n",
       "16  4 out of 5                             Completely unsatisfied\n",
       "17  4 out of 5  Complete detailed review and comparison with M...\n",
       "18  4 out of 5            Best features and looks in the business\n",
       "19  4 out of 5  Spo2 and heartbeat gives non.living things als...\n",
       "20  4 out of 5                                           Bussniss\n",
       "21  3 out of 5          What are you waiting for .. just buy it!!\n",
       "22  4 out of 5                                     Waste of money\n",
       "23  3 out of 5  Not Happ with product, other brand products is...\n",
       "24  4 out of 5                                          NO rating\n",
       "25  4 out of 5                                Poor Wrist Sense .."
      ]
     },
     "execution_count": 12,
     "metadata": {
      "tags": []
     },
     "output_type": "execute_result"
    }
   ],
   "source": [
    "df.head(26)"
   ]
  },
  {
   "cell_type": "code",
   "execution_count": 13,
   "metadata": {
    "colab": {
     "base_uri": "https://localhost:8080/"
    },
    "id": "k0f-CpUkyu1J",
    "outputId": "543364e0-a47d-46a9-b6fc-89e80093eb27"
   },
   "outputs": [
    {
     "data": {
      "text/plain": [
       "4 out of 5    21\n",
       "NO rating      3\n",
       "3 out of 5     2\n",
       "5 out of 5     1\n",
       "Name: Ratings, dtype: int64"
      ]
     },
     "execution_count": 13,
     "metadata": {
      "tags": []
     },
     "output_type": "execute_result"
    }
   ],
   "source": [
    "df['Ratings'].value_counts()"
   ]
  },
  {
   "cell_type": "code",
   "execution_count": 15,
   "metadata": {
    "id": "5MA21G3a0HwP"
   },
   "outputs": [],
   "source": [
    "import preprocess_kgptalkie as ps\n",
    "import re"
   ]
  },
  {
   "cell_type": "code",
   "execution_count": 17,
   "metadata": {
    "id": "Yvn6fePm0R6L"
   },
   "outputs": [],
   "source": [
    "def get_clean(x):\n",
    "    x = str(x).lower().replace('\\\\', '').replace('_', ' ')\n",
    "    x = ps.cont_exp(x)\n",
    "    x = ps.remove_emails(x)\n",
    "    x = ps.remove_urls(x)\n",
    "    x = ps.remove_html_tags(x)\n",
    "    x = ps.remove_accented_chars(x)\n",
    "    x = ps.remove_special_chars(x)\n",
    "    x = re.sub(\"(.)\\\\1{2,}\", \"\\\\1\", x)\n",
    "    return x"
   ]
  },
  {
   "cell_type": "code",
   "execution_count": 18,
   "metadata": {
    "id": "m_dIHo7t0ez7"
   },
   "outputs": [],
   "source": [
    "df['Reviews'] = df['Reviews'].apply(lambda x : get_clean(x))"
   ]
  },
  {
   "cell_type": "code",
   "execution_count": 19,
   "metadata": {
    "colab": {
     "base_uri": "https://localhost:8080/",
     "height": 204
    },
    "id": "nz1CXx0z0y3R",
    "outputId": "7b44fb6c-588f-446e-e3cf-1e8cb49eaa70"
   },
   "outputs": [
    {
     "data": {
      "text/html": [
       "<div>\n",
       "<style scoped>\n",
       "    .dataframe tbody tr th:only-of-type {\n",
       "        vertical-align: middle;\n",
       "    }\n",
       "\n",
       "    .dataframe tbody tr th {\n",
       "        vertical-align: top;\n",
       "    }\n",
       "\n",
       "    .dataframe thead th {\n",
       "        text-align: right;\n",
       "    }\n",
       "</style>\n",
       "<table border=\"1\" class=\"dataframe\">\n",
       "  <thead>\n",
       "    <tr style=\"text-align: right;\">\n",
       "      <th></th>\n",
       "      <th>Ratings</th>\n",
       "      <th>Reviews</th>\n",
       "    </tr>\n",
       "  </thead>\n",
       "  <tbody>\n",
       "    <tr>\n",
       "      <th>0</th>\n",
       "      <td>4 out of 5</td>\n",
       "      <td>good product though software improvements are ...</td>\n",
       "    </tr>\n",
       "    <tr>\n",
       "      <th>1</th>\n",
       "      <td>4 out of 5</td>\n",
       "      <td>do not buy waste of money</td>\n",
       "    </tr>\n",
       "    <tr>\n",
       "      <th>2</th>\n",
       "      <td>4 out of 5</td>\n",
       "      <td>45 awesome design good specs and features miba...</td>\n",
       "    </tr>\n",
       "    <tr>\n",
       "      <th>3</th>\n",
       "      <td>4 out of 5</td>\n",
       "      <td>best features and looks in the business</td>\n",
       "    </tr>\n",
       "    <tr>\n",
       "      <th>4</th>\n",
       "      <td>4 out of 5</td>\n",
       "      <td>poor wrist sense</td>\n",
       "    </tr>\n",
       "  </tbody>\n",
       "</table>\n",
       "</div>"
      ],
      "text/plain": [
       "      Ratings                                            Reviews\n",
       "0  4 out of 5  good product though software improvements are ...\n",
       "1  4 out of 5                          do not buy waste of money\n",
       "2  4 out of 5  45 awesome design good specs and features miba...\n",
       "3  4 out of 5            best features and looks in the business\n",
       "4  4 out of 5                                   poor wrist sense"
      ]
     },
     "execution_count": 19,
     "metadata": {
      "tags": []
     },
     "output_type": "execute_result"
    }
   ],
   "source": [
    "df.head()"
   ]
  },
  {
   "cell_type": "code",
   "execution_count": 20,
   "metadata": {
    "id": "WGaQ3puN04ab"
   },
   "outputs": [],
   "source": [
    "# TFIDF and LinearSVC Algorithm\n",
    "from sklearn.feature_extraction.text import TfidfVectorizer\n",
    "from sklearn.model_selection import train_test_split\n",
    "from sklearn.svm import LinearSVC\n",
    "from sklearn.metrics import classification_report"
   ]
  },
  {
   "cell_type": "code",
   "execution_count": 22,
   "metadata": {
    "id": "QblHCh9l1lEN"
   },
   "outputs": [],
   "source": [
    "tfidf = TfidfVectorizer(max_features=5, ngram_range=(1,3),analyzer='char')"
   ]
  },
  {
   "cell_type": "code",
   "execution_count": 23,
   "metadata": {
    "id": "EQrzQieT18IK"
   },
   "outputs": [],
   "source": [
    "x=tfidf.fit_transform(df['Reviews'])\n",
    "y=df['Ratings']"
   ]
  },
  {
   "cell_type": "code",
   "execution_count": 24,
   "metadata": {
    "colab": {
     "base_uri": "https://localhost:8080/"
    },
    "id": "YLKDTG9X2KYh",
    "outputId": "f90a4abe-b3b2-41f9-9e36-602326aecc47"
   },
   "outputs": [
    {
     "data": {
      "text/plain": [
       "((27, 5), (27,))"
      ]
     },
     "execution_count": 24,
     "metadata": {
      "tags": []
     },
     "output_type": "execute_result"
    }
   ],
   "source": [
    "x.shape, y.shape"
   ]
  },
  {
   "cell_type": "code",
   "execution_count": 25,
   "metadata": {
    "id": "B5wFBDFW2SxV"
   },
   "outputs": [],
   "source": [
    "x_train, x_test, y_train, y_test = train_test_split(x,y,test_size=0.2, random_state=0)"
   ]
  },
  {
   "cell_type": "code",
   "execution_count": 26,
   "metadata": {
    "colab": {
     "base_uri": "https://localhost:8080/"
    },
    "id": "W6rKSzxu2hIC",
    "outputId": "72c074c1-fa93-4785-f27d-64d32625bd9c"
   },
   "outputs": [
    {
     "data": {
      "text/plain": [
       "(21, 5)"
      ]
     },
     "execution_count": 26,
     "metadata": {
      "tags": []
     },
     "output_type": "execute_result"
    }
   ],
   "source": [
    "x_train.shape"
   ]
  },
  {
   "cell_type": "code",
   "execution_count": 27,
   "metadata": {
    "colab": {
     "base_uri": "https://localhost:8080/"
    },
    "id": "vY_r93Cb2o7-",
    "outputId": "6e784121-b3f8-47f0-b3f9-e2d111f9105f"
   },
   "outputs": [
    {
     "name": "stderr",
     "output_type": "stream",
     "text": [
      "/usr/local/lib/python3.7/dist-packages/sklearn/svm/_base.py:947: ConvergenceWarning: Liblinear failed to converge, increase the number of iterations.\n",
      "  \"the number of iterations.\", ConvergenceWarning)\n"
     ]
    },
    {
     "data": {
      "text/plain": [
       "LinearSVC(C=10, class_weight='balanced', dual=True, fit_intercept=True,\n",
       "          intercept_scaling=1, loss='squared_hinge', max_iter=1000,\n",
       "          multi_class='ovr', penalty='l2', random_state=None, tol=0.0001,\n",
       "          verbose=0)"
      ]
     },
     "execution_count": 27,
     "metadata": {
      "tags": []
     },
     "output_type": "execute_result"
    }
   ],
   "source": [
    "clf=LinearSVC(C=10,class_weight='balanced')\n",
    "clf.fit(x_train, y_train)"
   ]
  },
  {
   "cell_type": "code",
   "execution_count": 28,
   "metadata": {
    "id": "SVcerUQF30GU"
   },
   "outputs": [],
   "source": [
    "y_pred=clf.predict(x_test)"
   ]
  },
  {
   "cell_type": "code",
   "execution_count": 29,
   "metadata": {
    "colab": {
     "base_uri": "https://localhost:8080/"
    },
    "id": "sfKxSLo736bq",
    "outputId": "03ee9ebe-ccb9-479c-a025-0a636eb47fd8"
   },
   "outputs": [
    {
     "name": "stdout",
     "output_type": "stream",
     "text": [
      "              precision    recall  f1-score   support\n",
      "\n",
      "  3 out of 5       0.00      0.00      0.00         0\n",
      "  4 out of 5       1.00      0.50      0.67         6\n",
      "   NO rating       0.00      0.00      0.00         0\n",
      "\n",
      "    accuracy                           0.50         6\n",
      "   macro avg       0.33      0.17      0.22         6\n",
      "weighted avg       1.00      0.50      0.67         6\n",
      "\n"
     ]
    },
    {
     "name": "stderr",
     "output_type": "stream",
     "text": [
      "/usr/local/lib/python3.7/dist-packages/sklearn/metrics/_classification.py:1272: UndefinedMetricWarning: Recall and F-score are ill-defined and being set to 0.0 in labels with no true samples. Use `zero_division` parameter to control this behavior.\n",
      "  _warn_prf(average, modifier, msg_start, len(result))\n"
     ]
    }
   ],
   "source": [
    "print(classification_report(y_test, y_pred))"
   ]
  },
  {
   "cell_type": "code",
   "execution_count": 30,
   "metadata": {
    "colab": {
     "base_uri": "https://localhost:8080/"
    },
    "id": "fihxdRLz4KT0",
    "outputId": "511bbb2f-8eec-42a3-ebae-5023c7651974"
   },
   "outputs": [
    {
     "data": {
      "text/plain": [
       "array(['3 out of 5'], dtype=object)"
      ]
     },
     "execution_count": 30,
     "metadata": {
      "tags": []
     },
     "output_type": "execute_result"
    }
   ],
   "source": [
    "x='this product is realy good. i like it'\n",
    "x=get_clean(x)\n",
    "vec=tfidf.transform([x])\n",
    "clf.predict(vec)"
   ]
  }
 ],
 "metadata": {
  "colab": {
   "collapsed_sections": [],
   "name": "nlp5",
   "provenance": []
  },
  "kernelspec": {
   "display_name": "Python 3",
   "language": "python",
   "name": "python3"
  },
  "language_info": {
   "codemirror_mode": {
    "name": "ipython",
    "version": 3
   },
   "file_extension": ".py",
   "mimetype": "text/x-python",
   "name": "python",
   "nbconvert_exporter": "python",
   "pygments_lexer": "ipython3",
   "version": "3.7.3"
  }
 },
 "nbformat": 4,
 "nbformat_minor": 1
}
