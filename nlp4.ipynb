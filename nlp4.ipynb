{
 "cells": [
  {
   "cell_type": "code",
   "execution_count": 66,
   "metadata": {
    "id": "Pt2oA_IgtyRg"
   },
   "outputs": [],
   "source": [
    "import numpy as np #for Data Analysis\n",
    "import pandas as pd #for scientific computation"
   ]
  },
  {
   "cell_type": "code",
   "execution_count": 67,
   "metadata": {
    "colab": {
     "base_uri": "https://localhost:8080/"
    },
    "id": "wSOE0wHVt65A",
    "outputId": "7ee54efe-9be9-43b2-ce69-f8e173538941"
   },
   "outputs": [
    {
     "name": "stdout",
     "output_type": "stream",
     "text": [
      "Drive already mounted at /content/grive; to attempt to forcibly remount, call drive.mount(\"/content/grive\", force_remount=True).\n"
     ]
    }
   ],
   "source": [
    "from google.colab import drive\n",
    "drive.mount('/content/grive')"
   ]
  },
  {
   "cell_type": "code",
   "execution_count": 68,
   "metadata": {
    "id": "2redSSmkw2s3"
   },
   "outputs": [],
   "source": [
    "df=pd.read_csv('/content/grive/My Drive/amazon_ratings_reviews4.csv')"
   ]
  },
  {
   "cell_type": "code",
   "execution_count": 69,
   "metadata": {
    "colab": {
     "base_uri": "https://localhost:8080/",
     "height": 855
    },
    "id": "n32u6UpNyFZI",
    "outputId": "5decd421-df16-4043-8fc0-c111ef333136"
   },
   "outputs": [
    {
     "data": {
      "text/html": [
       "<div>\n",
       "<style scoped>\n",
       "    .dataframe tbody tr th:only-of-type {\n",
       "        vertical-align: middle;\n",
       "    }\n",
       "\n",
       "    .dataframe tbody tr th {\n",
       "        vertical-align: top;\n",
       "    }\n",
       "\n",
       "    .dataframe thead th {\n",
       "        text-align: right;\n",
       "    }\n",
       "</style>\n",
       "<table border=\"1\" class=\"dataframe\">\n",
       "  <thead>\n",
       "    <tr style=\"text-align: right;\">\n",
       "      <th></th>\n",
       "      <th>Ratings</th>\n",
       "      <th>Reviews</th>\n",
       "    </tr>\n",
       "  </thead>\n",
       "  <tbody>\n",
       "    <tr>\n",
       "      <th>0</th>\n",
       "      <td>4.2 out of 5</td>\n",
       "      <td>Read if you're considering whether to buy it o...</td>\n",
       "    </tr>\n",
       "    <tr>\n",
       "      <th>1</th>\n",
       "      <td>4 out of 5</td>\n",
       "      <td>Honest review of an edm music lover</td>\n",
       "    </tr>\n",
       "    <tr>\n",
       "      <th>2</th>\n",
       "      <td>4.2 out of 5</td>\n",
       "      <td>Bad bad bad quality</td>\n",
       "    </tr>\n",
       "    <tr>\n",
       "      <th>3</th>\n",
       "      <td>4.1 out of 5</td>\n",
       "      <td>Must watch this detailed 👉 REVIEW ☺️</td>\n",
       "    </tr>\n",
       "    <tr>\n",
       "      <th>4</th>\n",
       "      <td>3.8 out of 5</td>\n",
       "      <td>Complete package</td>\n",
       "    </tr>\n",
       "    <tr>\n",
       "      <th>5</th>\n",
       "      <td>NO rating</td>\n",
       "      <td>NO rating</td>\n",
       "    </tr>\n",
       "    <tr>\n",
       "      <th>6</th>\n",
       "      <td>4.4 out of 5</td>\n",
       "      <td>Do not buy these, read my experience!!</td>\n",
       "    </tr>\n",
       "    <tr>\n",
       "      <th>7</th>\n",
       "      <td>4.2 out of 5</td>\n",
       "      <td>Read if you're considering whether to buy it o...</td>\n",
       "    </tr>\n",
       "    <tr>\n",
       "      <th>8</th>\n",
       "      <td>4.1 out of 5</td>\n",
       "      <td>Boat Rockerz 400</td>\n",
       "    </tr>\n",
       "    <tr>\n",
       "      <th>9</th>\n",
       "      <td>4.1 out of 5</td>\n",
       "      <td>Not durable at all!!!</td>\n",
       "    </tr>\n",
       "    <tr>\n",
       "      <th>10</th>\n",
       "      <td>3.8 out of 5</td>\n",
       "      <td>Complete package</td>\n",
       "    </tr>\n",
       "    <tr>\n",
       "      <th>11</th>\n",
       "      <td>4 out of 5</td>\n",
       "      <td>Yet another discusting earphone that sounds ju...</td>\n",
       "    </tr>\n",
       "    <tr>\n",
       "      <th>12</th>\n",
       "      <td>3.5 out of 5</td>\n",
       "      <td>Good product &amp; excellent delivery time lines</td>\n",
       "    </tr>\n",
       "    <tr>\n",
       "      <th>13</th>\n",
       "      <td>3.9 out of 5</td>\n",
       "      <td>more than expected !!</td>\n",
       "    </tr>\n",
       "    <tr>\n",
       "      <th>14</th>\n",
       "      <td>3.7 out of 5</td>\n",
       "      <td>Easier bluetooth connectivity with great sound...</td>\n",
       "    </tr>\n",
       "    <tr>\n",
       "      <th>15</th>\n",
       "      <td>NO rating</td>\n",
       "      <td>NO rating</td>\n",
       "    </tr>\n",
       "    <tr>\n",
       "      <th>16</th>\n",
       "      <td>3.8 out of 5</td>\n",
       "      <td>True JBL Sound in pocket friendly price but us...</td>\n",
       "    </tr>\n",
       "    <tr>\n",
       "      <th>17</th>\n",
       "      <td>4.2 out of 5</td>\n",
       "      <td>Bad bad bad quality</td>\n",
       "    </tr>\n",
       "    <tr>\n",
       "      <th>18</th>\n",
       "      <td>3.8 out of 5</td>\n",
       "      <td>Recommended for budget around rs. 1000</td>\n",
       "    </tr>\n",
       "    <tr>\n",
       "      <th>19</th>\n",
       "      <td>3.9 out of 5</td>\n",
       "      <td>more than expected !!</td>\n",
       "    </tr>\n",
       "    <tr>\n",
       "      <th>20</th>\n",
       "      <td>3.8 out of 5</td>\n",
       "      <td>Has 2 pins, incompatible with Dell laptops</td>\n",
       "    </tr>\n",
       "    <tr>\n",
       "      <th>21</th>\n",
       "      <td>3.8 out of 5</td>\n",
       "      <td>Complete package</td>\n",
       "    </tr>\n",
       "    <tr>\n",
       "      <th>22</th>\n",
       "      <td>3.8 out of 5</td>\n",
       "      <td>True JBL Sound in pocket friendly price but us...</td>\n",
       "    </tr>\n",
       "    <tr>\n",
       "      <th>23</th>\n",
       "      <td>3.8 out of 5</td>\n",
       "      <td>Complete package</td>\n",
       "    </tr>\n",
       "    <tr>\n",
       "      <th>24</th>\n",
       "      <td>4.1 out of 5</td>\n",
       "      <td>Exquisite Headphones! Head Turning Design!</td>\n",
       "    </tr>\n",
       "    <tr>\n",
       "      <th>25</th>\n",
       "      <td>4 out of 5</td>\n",
       "      <td>Get airpods pro instead of this crap</td>\n",
       "    </tr>\n",
       "  </tbody>\n",
       "</table>\n",
       "</div>"
      ],
      "text/plain": [
       "         Ratings                                            Reviews\n",
       "0   4.2 out of 5  Read if you're considering whether to buy it o...\n",
       "1     4 out of 5                Honest review of an edm music lover\n",
       "2   4.2 out of 5                                Bad bad bad quality\n",
       "3   4.1 out of 5               Must watch this detailed 👉 REVIEW ☺️\n",
       "4   3.8 out of 5                                   Complete package\n",
       "5      NO rating                                          NO rating\n",
       "6   4.4 out of 5             Do not buy these, read my experience!!\n",
       "7   4.2 out of 5  Read if you're considering whether to buy it o...\n",
       "8   4.1 out of 5                                   Boat Rockerz 400\n",
       "9   4.1 out of 5                              Not durable at all!!!\n",
       "10  3.8 out of 5                                   Complete package\n",
       "11    4 out of 5  Yet another discusting earphone that sounds ju...\n",
       "12  3.5 out of 5       Good product & excellent delivery time lines\n",
       "13  3.9 out of 5                              more than expected !!\n",
       "14  3.7 out of 5  Easier bluetooth connectivity with great sound...\n",
       "15     NO rating                                          NO rating\n",
       "16  3.8 out of 5  True JBL Sound in pocket friendly price but us...\n",
       "17  4.2 out of 5                                Bad bad bad quality\n",
       "18  3.8 out of 5             Recommended for budget around rs. 1000\n",
       "19  3.9 out of 5                              more than expected !!\n",
       "20  3.8 out of 5         Has 2 pins, incompatible with Dell laptops\n",
       "21  3.8 out of 5                                   Complete package\n",
       "22  3.8 out of 5  True JBL Sound in pocket friendly price but us...\n",
       "23  3.8 out of 5                                   Complete package\n",
       "24  4.1 out of 5         Exquisite Headphones! Head Turning Design!\n",
       "25    4 out of 5               Get airpods pro instead of this crap"
      ]
     },
     "execution_count": 69,
     "metadata": {
      "tags": []
     },
     "output_type": "execute_result"
    }
   ],
   "source": [
    "df.head(27)"
   ]
  },
  {
   "cell_type": "code",
   "execution_count": 74,
   "metadata": {
    "id": "tPxO6djxyeYQ"
   },
   "outputs": [],
   "source": [
    "df['Ratings'].replace(['4.2 out of 5','4.1 out of 5','3.8 out of 5'],['4 out of 5','4 out of 5','4 out of 5'], inplace = True)"
   ]
  },
  {
   "cell_type": "code",
   "execution_count": 79,
   "metadata": {
    "id": "emQt9e6tyhA2"
   },
   "outputs": [],
   "source": [
    "df['Ratings'].replace(['4.4  out of 5','3.9 out of 5'],['4 out of 5','4 out of 5'], inplace = True)"
   ]
  },
  {
   "cell_type": "code",
   "execution_count": 82,
   "metadata": {
    "id": "QqyGtJlmbNzm"
   },
   "outputs": [],
   "source": [
    "df['Ratings'].replace(['3.5 out of 5','3.7 out of 5','4.4 out of 5'],['4 out of 5','4 out of 5','4 out of 5'], inplace = True)"
   ]
  },
  {
   "cell_type": "code",
   "execution_count": 83,
   "metadata": {
    "colab": {
     "base_uri": "https://localhost:8080/",
     "height": 855
    },
    "id": "xUu2qzV4yqSD",
    "outputId": "c22cc5cd-5e61-4c87-ea4a-ebf40414f450"
   },
   "outputs": [
    {
     "data": {
      "text/html": [
       "<div>\n",
       "<style scoped>\n",
       "    .dataframe tbody tr th:only-of-type {\n",
       "        vertical-align: middle;\n",
       "    }\n",
       "\n",
       "    .dataframe tbody tr th {\n",
       "        vertical-align: top;\n",
       "    }\n",
       "\n",
       "    .dataframe thead th {\n",
       "        text-align: right;\n",
       "    }\n",
       "</style>\n",
       "<table border=\"1\" class=\"dataframe\">\n",
       "  <thead>\n",
       "    <tr style=\"text-align: right;\">\n",
       "      <th></th>\n",
       "      <th>Ratings</th>\n",
       "      <th>Reviews</th>\n",
       "    </tr>\n",
       "  </thead>\n",
       "  <tbody>\n",
       "    <tr>\n",
       "      <th>0</th>\n",
       "      <td>4 out of 5</td>\n",
       "      <td>Read if you're considering whether to buy it o...</td>\n",
       "    </tr>\n",
       "    <tr>\n",
       "      <th>1</th>\n",
       "      <td>4 out of 5</td>\n",
       "      <td>Honest review of an edm music lover</td>\n",
       "    </tr>\n",
       "    <tr>\n",
       "      <th>2</th>\n",
       "      <td>4 out of 5</td>\n",
       "      <td>Bad bad bad quality</td>\n",
       "    </tr>\n",
       "    <tr>\n",
       "      <th>3</th>\n",
       "      <td>4 out of 5</td>\n",
       "      <td>Must watch this detailed 👉 REVIEW ☺️</td>\n",
       "    </tr>\n",
       "    <tr>\n",
       "      <th>4</th>\n",
       "      <td>4 out of 5</td>\n",
       "      <td>Complete package</td>\n",
       "    </tr>\n",
       "    <tr>\n",
       "      <th>5</th>\n",
       "      <td>NO rating</td>\n",
       "      <td>NO rating</td>\n",
       "    </tr>\n",
       "    <tr>\n",
       "      <th>6</th>\n",
       "      <td>4 out of 5</td>\n",
       "      <td>Do not buy these, read my experience!!</td>\n",
       "    </tr>\n",
       "    <tr>\n",
       "      <th>7</th>\n",
       "      <td>4 out of 5</td>\n",
       "      <td>Read if you're considering whether to buy it o...</td>\n",
       "    </tr>\n",
       "    <tr>\n",
       "      <th>8</th>\n",
       "      <td>4 out of 5</td>\n",
       "      <td>Boat Rockerz 400</td>\n",
       "    </tr>\n",
       "    <tr>\n",
       "      <th>9</th>\n",
       "      <td>4 out of 5</td>\n",
       "      <td>Not durable at all!!!</td>\n",
       "    </tr>\n",
       "    <tr>\n",
       "      <th>10</th>\n",
       "      <td>4 out of 5</td>\n",
       "      <td>Complete package</td>\n",
       "    </tr>\n",
       "    <tr>\n",
       "      <th>11</th>\n",
       "      <td>4 out of 5</td>\n",
       "      <td>Yet another discusting earphone that sounds ju...</td>\n",
       "    </tr>\n",
       "    <tr>\n",
       "      <th>12</th>\n",
       "      <td>4 out of 5</td>\n",
       "      <td>Good product &amp; excellent delivery time lines</td>\n",
       "    </tr>\n",
       "    <tr>\n",
       "      <th>13</th>\n",
       "      <td>4 out of 5</td>\n",
       "      <td>more than expected !!</td>\n",
       "    </tr>\n",
       "    <tr>\n",
       "      <th>14</th>\n",
       "      <td>4 out of 5</td>\n",
       "      <td>Easier bluetooth connectivity with great sound...</td>\n",
       "    </tr>\n",
       "    <tr>\n",
       "      <th>15</th>\n",
       "      <td>NO rating</td>\n",
       "      <td>NO rating</td>\n",
       "    </tr>\n",
       "    <tr>\n",
       "      <th>16</th>\n",
       "      <td>4 out of 5</td>\n",
       "      <td>True JBL Sound in pocket friendly price but us...</td>\n",
       "    </tr>\n",
       "    <tr>\n",
       "      <th>17</th>\n",
       "      <td>4 out of 5</td>\n",
       "      <td>Bad bad bad quality</td>\n",
       "    </tr>\n",
       "    <tr>\n",
       "      <th>18</th>\n",
       "      <td>4 out of 5</td>\n",
       "      <td>Recommended for budget around rs. 1000</td>\n",
       "    </tr>\n",
       "    <tr>\n",
       "      <th>19</th>\n",
       "      <td>4 out of 5</td>\n",
       "      <td>more than expected !!</td>\n",
       "    </tr>\n",
       "    <tr>\n",
       "      <th>20</th>\n",
       "      <td>4 out of 5</td>\n",
       "      <td>Has 2 pins, incompatible with Dell laptops</td>\n",
       "    </tr>\n",
       "    <tr>\n",
       "      <th>21</th>\n",
       "      <td>4 out of 5</td>\n",
       "      <td>Complete package</td>\n",
       "    </tr>\n",
       "    <tr>\n",
       "      <th>22</th>\n",
       "      <td>4 out of 5</td>\n",
       "      <td>True JBL Sound in pocket friendly price but us...</td>\n",
       "    </tr>\n",
       "    <tr>\n",
       "      <th>23</th>\n",
       "      <td>4 out of 5</td>\n",
       "      <td>Complete package</td>\n",
       "    </tr>\n",
       "    <tr>\n",
       "      <th>24</th>\n",
       "      <td>4 out of 5</td>\n",
       "      <td>Exquisite Headphones! Head Turning Design!</td>\n",
       "    </tr>\n",
       "    <tr>\n",
       "      <th>25</th>\n",
       "      <td>4 out of 5</td>\n",
       "      <td>Get airpods pro instead of this crap</td>\n",
       "    </tr>\n",
       "  </tbody>\n",
       "</table>\n",
       "</div>"
      ],
      "text/plain": [
       "       Ratings                                            Reviews\n",
       "0   4 out of 5  Read if you're considering whether to buy it o...\n",
       "1   4 out of 5                Honest review of an edm music lover\n",
       "2   4 out of 5                                Bad bad bad quality\n",
       "3   4 out of 5               Must watch this detailed 👉 REVIEW ☺️\n",
       "4   4 out of 5                                   Complete package\n",
       "5    NO rating                                          NO rating\n",
       "6   4 out of 5             Do not buy these, read my experience!!\n",
       "7   4 out of 5  Read if you're considering whether to buy it o...\n",
       "8   4 out of 5                                   Boat Rockerz 400\n",
       "9   4 out of 5                              Not durable at all!!!\n",
       "10  4 out of 5                                   Complete package\n",
       "11  4 out of 5  Yet another discusting earphone that sounds ju...\n",
       "12  4 out of 5       Good product & excellent delivery time lines\n",
       "13  4 out of 5                              more than expected !!\n",
       "14  4 out of 5  Easier bluetooth connectivity with great sound...\n",
       "15   NO rating                                          NO rating\n",
       "16  4 out of 5  True JBL Sound in pocket friendly price but us...\n",
       "17  4 out of 5                                Bad bad bad quality\n",
       "18  4 out of 5             Recommended for budget around rs. 1000\n",
       "19  4 out of 5                              more than expected !!\n",
       "20  4 out of 5         Has 2 pins, incompatible with Dell laptops\n",
       "21  4 out of 5                                   Complete package\n",
       "22  4 out of 5  True JBL Sound in pocket friendly price but us...\n",
       "23  4 out of 5                                   Complete package\n",
       "24  4 out of 5         Exquisite Headphones! Head Turning Design!\n",
       "25  4 out of 5               Get airpods pro instead of this crap"
      ]
     },
     "execution_count": 83,
     "metadata": {
      "tags": []
     },
     "output_type": "execute_result"
    }
   ],
   "source": [
    "df.head(26)"
   ]
  },
  {
   "cell_type": "code",
   "execution_count": 84,
   "metadata": {
    "colab": {
     "base_uri": "https://localhost:8080/"
    },
    "id": "k0f-CpUkyu1J",
    "outputId": "cdba4a14-2525-4696-b566-493b15a64b59"
   },
   "outputs": [
    {
     "data": {
      "text/plain": [
       "4 out of 5    24\n",
       "NO rating      2\n",
       "Name: Ratings, dtype: int64"
      ]
     },
     "execution_count": 84,
     "metadata": {
      "tags": []
     },
     "output_type": "execute_result"
    }
   ],
   "source": [
    "df['Ratings'].value_counts()"
   ]
  },
  {
   "cell_type": "code",
   "execution_count": 49,
   "metadata": {
    "id": "5MA21G3a0HwP"
   },
   "outputs": [],
   "source": [
    "import preprocess_kgptalkie as ps\n",
    "import re"
   ]
  },
  {
   "cell_type": "code",
   "execution_count": 86,
   "metadata": {
    "id": "Yvn6fePm0R6L"
   },
   "outputs": [],
   "source": [
    "def get_clean(x):\n",
    "    x = str(x).lower().replace('\\\\', '').replace('_', ' ')\n",
    "    x = ps.cont_exp(x)\n",
    "    x = ps.remove_emails(x)\n",
    "    x = ps.remove_urls(x)\n",
    "    x = ps.remove_html_tags(x)\n",
    "    x = ps.remove_accented_chars(x)\n",
    "    x = ps.remove_special_chars(x)\n",
    "    x = re.sub(\"(.)\\\\1{2,}\", \"\\\\1\", x)\n",
    "    return x"
   ]
  },
  {
   "cell_type": "code",
   "execution_count": 87,
   "metadata": {
    "id": "m_dIHo7t0ez7"
   },
   "outputs": [],
   "source": [
    "df['Reviews'] = df['Reviews'].apply(lambda x : get_clean(x))"
   ]
  },
  {
   "cell_type": "code",
   "execution_count": 88,
   "metadata": {
    "colab": {
     "base_uri": "https://localhost:8080/",
     "height": 204
    },
    "id": "nz1CXx0z0y3R",
    "outputId": "d74a40c9-c3ce-434b-a73e-16e79c0a123b"
   },
   "outputs": [
    {
     "data": {
      "text/html": [
       "<div>\n",
       "<style scoped>\n",
       "    .dataframe tbody tr th:only-of-type {\n",
       "        vertical-align: middle;\n",
       "    }\n",
       "\n",
       "    .dataframe tbody tr th {\n",
       "        vertical-align: top;\n",
       "    }\n",
       "\n",
       "    .dataframe thead th {\n",
       "        text-align: right;\n",
       "    }\n",
       "</style>\n",
       "<table border=\"1\" class=\"dataframe\">\n",
       "  <thead>\n",
       "    <tr style=\"text-align: right;\">\n",
       "      <th></th>\n",
       "      <th>Ratings</th>\n",
       "      <th>Reviews</th>\n",
       "    </tr>\n",
       "  </thead>\n",
       "  <tbody>\n",
       "    <tr>\n",
       "      <th>0</th>\n",
       "      <td>4 out of 5</td>\n",
       "      <td>read if youre considering whether to buy it or...</td>\n",
       "    </tr>\n",
       "    <tr>\n",
       "      <th>1</th>\n",
       "      <td>4 out of 5</td>\n",
       "      <td>honest review of an edm music lover</td>\n",
       "    </tr>\n",
       "    <tr>\n",
       "      <th>2</th>\n",
       "      <td>4 out of 5</td>\n",
       "      <td>bad bad bad quality</td>\n",
       "    </tr>\n",
       "    <tr>\n",
       "      <th>3</th>\n",
       "      <td>4 out of 5</td>\n",
       "      <td>must watch this detailed review</td>\n",
       "    </tr>\n",
       "    <tr>\n",
       "      <th>4</th>\n",
       "      <td>4 out of 5</td>\n",
       "      <td>complete package</td>\n",
       "    </tr>\n",
       "  </tbody>\n",
       "</table>\n",
       "</div>"
      ],
      "text/plain": [
       "      Ratings                                            Reviews\n",
       "0  4 out of 5  read if youre considering whether to buy it or...\n",
       "1  4 out of 5                honest review of an edm music lover\n",
       "2  4 out of 5                                bad bad bad quality\n",
       "3  4 out of 5                    must watch this detailed review\n",
       "4  4 out of 5                                   complete package"
      ]
     },
     "execution_count": 88,
     "metadata": {
      "tags": []
     },
     "output_type": "execute_result"
    }
   ],
   "source": [
    "df.head()"
   ]
  },
  {
   "cell_type": "code",
   "execution_count": 89,
   "metadata": {
    "id": "WGaQ3puN04ab"
   },
   "outputs": [],
   "source": [
    "# TFIDF and LinearSVC Algorithm\n",
    "from sklearn.feature_extraction.text import TfidfVectorizer\n",
    "from sklearn.model_selection import train_test_split\n",
    "from sklearn.svm import LinearSVC\n",
    "from sklearn.metrics import classification_report"
   ]
  },
  {
   "cell_type": "code",
   "execution_count": 90,
   "metadata": {
    "id": "QblHCh9l1lEN"
   },
   "outputs": [],
   "source": [
    "tfidf = TfidfVectorizer(max_features=5, ngram_range=(1,3),analyzer='char')"
   ]
  },
  {
   "cell_type": "code",
   "execution_count": 91,
   "metadata": {
    "id": "EQrzQieT18IK"
   },
   "outputs": [],
   "source": [
    "x=tfidf.fit_transform(df['Reviews'])\n",
    "y=df['Ratings']"
   ]
  },
  {
   "cell_type": "code",
   "execution_count": 92,
   "metadata": {
    "colab": {
     "base_uri": "https://localhost:8080/"
    },
    "id": "YLKDTG9X2KYh",
    "outputId": "882a46f7-e43d-4e18-d7e8-958a3933320c"
   },
   "outputs": [
    {
     "data": {
      "text/plain": [
       "((26, 5), (26,))"
      ]
     },
     "execution_count": 92,
     "metadata": {
      "tags": []
     },
     "output_type": "execute_result"
    }
   ],
   "source": [
    "x.shape, y.shape"
   ]
  },
  {
   "cell_type": "code",
   "execution_count": 93,
   "metadata": {
    "id": "B5wFBDFW2SxV"
   },
   "outputs": [],
   "source": [
    "x_train, x_test, y_train, y_test = train_test_split(x,y,test_size=0.2, random_state=0)"
   ]
  },
  {
   "cell_type": "code",
   "execution_count": 94,
   "metadata": {
    "colab": {
     "base_uri": "https://localhost:8080/"
    },
    "id": "W6rKSzxu2hIC",
    "outputId": "38c32007-6e8b-4cef-a880-43796aa1eae1"
   },
   "outputs": [
    {
     "data": {
      "text/plain": [
       "(20, 5)"
      ]
     },
     "execution_count": 94,
     "metadata": {
      "tags": []
     },
     "output_type": "execute_result"
    }
   ],
   "source": [
    "x_train.shape"
   ]
  },
  {
   "cell_type": "code",
   "execution_count": 95,
   "metadata": {
    "colab": {
     "base_uri": "https://localhost:8080/"
    },
    "id": "vY_r93Cb2o7-",
    "outputId": "75fe8d6c-7484-4b0d-9cf1-16a4db5445f2"
   },
   "outputs": [
    {
     "data": {
      "text/plain": [
       "LinearSVC(C=10, class_weight='balanced', dual=True, fit_intercept=True,\n",
       "          intercept_scaling=1, loss='squared_hinge', max_iter=1000,\n",
       "          multi_class='ovr', penalty='l2', random_state=None, tol=0.0001,\n",
       "          verbose=0)"
      ]
     },
     "execution_count": 95,
     "metadata": {
      "tags": []
     },
     "output_type": "execute_result"
    }
   ],
   "source": [
    "clf=LinearSVC(C=10,class_weight='balanced')\n",
    "clf.fit(x_train, y_train)"
   ]
  },
  {
   "cell_type": "code",
   "execution_count": 96,
   "metadata": {
    "id": "SVcerUQF30GU"
   },
   "outputs": [],
   "source": [
    "y_pred=clf.predict(x_test)"
   ]
  },
  {
   "cell_type": "code",
   "execution_count": 97,
   "metadata": {
    "colab": {
     "base_uri": "https://localhost:8080/"
    },
    "id": "sfKxSLo736bq",
    "outputId": "a3bb7a13-a302-4fca-a51a-71ff399b8486"
   },
   "outputs": [
    {
     "name": "stdout",
     "output_type": "stream",
     "text": [
      "              precision    recall  f1-score   support\n",
      "\n",
      "  4 out of 5       1.00      1.00      1.00         5\n",
      "   NO rating       1.00      1.00      1.00         1\n",
      "\n",
      "    accuracy                           1.00         6\n",
      "   macro avg       1.00      1.00      1.00         6\n",
      "weighted avg       1.00      1.00      1.00         6\n",
      "\n"
     ]
    }
   ],
   "source": [
    "print(classification_report(y_test, y_pred))"
   ]
  },
  {
   "cell_type": "code",
   "execution_count": 98,
   "metadata": {
    "colab": {
     "base_uri": "https://localhost:8080/"
    },
    "id": "fihxdRLz4KT0",
    "outputId": "c048f4d9-9d47-4ac0-d2c4-1e6a58e020b2"
   },
   "outputs": [
    {
     "data": {
      "text/plain": [
       "array(['4 out of 5'], dtype=object)"
      ]
     },
     "execution_count": 98,
     "metadata": {
      "tags": []
     },
     "output_type": "execute_result"
    }
   ],
   "source": [
    "x='this product is realy good. i like it'\n",
    "x=get_clean(x)\n",
    "vec=tfidf.transform([x])\n",
    "clf.predict(vec)"
   ]
  }
 ],
 "metadata": {
  "colab": {
   "collapsed_sections": [],
   "name": "nlp4",
   "provenance": []
  },
  "kernelspec": {
   "display_name": "Python 3",
   "language": "python",
   "name": "python3"
  },
  "language_info": {
   "codemirror_mode": {
    "name": "ipython",
    "version": 3
   },
   "file_extension": ".py",
   "mimetype": "text/x-python",
   "name": "python",
   "nbconvert_exporter": "python",
   "pygments_lexer": "ipython3",
   "version": "3.7.3"
  }
 },
 "nbformat": 4,
 "nbformat_minor": 1
}
