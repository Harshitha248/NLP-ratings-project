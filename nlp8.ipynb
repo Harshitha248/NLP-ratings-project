{
 "cells": [
  {
   "cell_type": "code",
   "execution_count": 31,
   "metadata": {
    "id": "Pt2oA_IgtyRg"
   },
   "outputs": [],
   "source": [
    "import numpy as np #for Data Analysis\n",
    "import pandas as pd #for scientific computation"
   ]
  },
  {
   "cell_type": "code",
   "execution_count": 32,
   "metadata": {
    "colab": {
     "base_uri": "https://localhost:8080/"
    },
    "id": "wSOE0wHVt65A",
    "outputId": "28c6148f-7855-4bca-e6ef-9f4f0490f7c1"
   },
   "outputs": [
    {
     "name": "stdout",
     "output_type": "stream",
     "text": [
      "Drive already mounted at /content/grive; to attempt to forcibly remount, call drive.mount(\"/content/grive\", force_remount=True).\n"
     ]
    }
   ],
   "source": [
    "from google.colab import drive\n",
    "drive.mount('/content/grive')"
   ]
  },
  {
   "cell_type": "code",
   "execution_count": 95,
   "metadata": {
    "id": "2redSSmkw2s3"
   },
   "outputs": [],
   "source": [
    "df=pd.read_csv('/content/grive/My Drive/amazon_ratings_reviews8.csv')"
   ]
  },
  {
   "cell_type": "code",
   "execution_count": 96,
   "metadata": {
    "colab": {
     "base_uri": "https://localhost:8080/",
     "height": 824
    },
    "id": "n32u6UpNyFZI",
    "outputId": "82810e72-59d3-4512-b831-fd169771be34"
   },
   "outputs": [
    {
     "data": {
      "text/html": [
       "<div>\n",
       "<style scoped>\n",
       "    .dataframe tbody tr th:only-of-type {\n",
       "        vertical-align: middle;\n",
       "    }\n",
       "\n",
       "    .dataframe tbody tr th {\n",
       "        vertical-align: top;\n",
       "    }\n",
       "\n",
       "    .dataframe thead th {\n",
       "        text-align: right;\n",
       "    }\n",
       "</style>\n",
       "<table border=\"1\" class=\"dataframe\">\n",
       "  <thead>\n",
       "    <tr style=\"text-align: right;\">\n",
       "      <th></th>\n",
       "      <th>Ratings</th>\n",
       "      <th>Reviews</th>\n",
       "    </tr>\n",
       "  </thead>\n",
       "  <tbody>\n",
       "    <tr>\n",
       "      <th>0</th>\n",
       "      <td>3.5 out of 5</td>\n",
       "      <td>How to connect</td>\n",
       "    </tr>\n",
       "    <tr>\n",
       "      <th>1</th>\n",
       "      <td>3.7 out of 5</td>\n",
       "      <td>Issue with connection to my led TV</td>\n",
       "    </tr>\n",
       "    <tr>\n",
       "      <th>2</th>\n",
       "      <td>3.9 out of 5</td>\n",
       "      <td>Very nice Product I ball tender 2.1 multi spekar</td>\n",
       "    </tr>\n",
       "    <tr>\n",
       "      <th>3</th>\n",
       "      <td>3.8 out of 5</td>\n",
       "      <td>Superb Speakers &amp; Bass Got In 1990 Rs Only :D</td>\n",
       "    </tr>\n",
       "    <tr>\n",
       "      <th>4</th>\n",
       "      <td>4 out of 5</td>\n",
       "      <td>It is very very bad product. I am very disappo...</td>\n",
       "    </tr>\n",
       "    <tr>\n",
       "      <th>5</th>\n",
       "      <td>4.1 out of 5</td>\n",
       "      <td>No other choices... Please buy it.. Superb and...</td>\n",
       "    </tr>\n",
       "    <tr>\n",
       "      <th>6</th>\n",
       "      <td>4 out of 5</td>\n",
       "      <td>It is very very bad product. I am very disappo...</td>\n",
       "    </tr>\n",
       "    <tr>\n",
       "      <th>7</th>\n",
       "      <td>4.5 out of 5</td>\n",
       "      <td>If you're looking for a good quality surround ...</td>\n",
       "    </tr>\n",
       "    <tr>\n",
       "      <th>8</th>\n",
       "      <td>3.8 out of 5</td>\n",
       "      <td>Superb Speakers &amp; Bass Got In 1990 Rs Only :D</td>\n",
       "    </tr>\n",
       "    <tr>\n",
       "      <th>9</th>\n",
       "      <td>3.4 out of 5</td>\n",
       "      <td>Satisfied product for this price</td>\n",
       "    </tr>\n",
       "    <tr>\n",
       "      <th>10</th>\n",
       "      <td>3.8 out of 5</td>\n",
       "      <td>Send is pathetic</td>\n",
       "    </tr>\n",
       "    <tr>\n",
       "      <th>11</th>\n",
       "      <td>3.2 out of 5</td>\n",
       "      <td>Some problem</td>\n",
       "    </tr>\n",
       "    <tr>\n",
       "      <th>12</th>\n",
       "      <td>3.4 out of 5</td>\n",
       "      <td>Excellent Product....</td>\n",
       "    </tr>\n",
       "    <tr>\n",
       "      <th>13</th>\n",
       "      <td>3.8 out of 5</td>\n",
       "      <td>Super</td>\n",
       "    </tr>\n",
       "    <tr>\n",
       "      <th>14</th>\n",
       "      <td>4.2 out of 5</td>\n",
       "      <td>Perfect sound signature with amazing loudness ...</td>\n",
       "    </tr>\n",
       "    <tr>\n",
       "      <th>15</th>\n",
       "      <td>3.9 out of 5</td>\n",
       "      <td>Five Stars</td>\n",
       "    </tr>\n",
       "    <tr>\n",
       "      <th>16</th>\n",
       "      <td>3.3 out of 5</td>\n",
       "      <td>FR,SR,center pin and FM is not working and sho...</td>\n",
       "    </tr>\n",
       "    <tr>\n",
       "      <th>17</th>\n",
       "      <td>4 out of 5</td>\n",
       "      <td>It is very very bad product. I am very disappo...</td>\n",
       "    </tr>\n",
       "    <tr>\n",
       "      <th>18</th>\n",
       "      <td>4.2 out of 5</td>\n",
       "      <td>Perfect sound signature with amazing loudness ...</td>\n",
       "    </tr>\n",
       "    <tr>\n",
       "      <th>19</th>\n",
       "      <td>3.4 out of 5</td>\n",
       "      <td>Not working properly some heavy background noi...</td>\n",
       "    </tr>\n",
       "    <tr>\n",
       "      <th>20</th>\n",
       "      <td>3.2 out of 5</td>\n",
       "      <td>cheated in name of this refurbished?</td>\n",
       "    </tr>\n",
       "    <tr>\n",
       "      <th>21</th>\n",
       "      <td>3.3 out of 5</td>\n",
       "      <td>Dolby is not working😭😭</td>\n",
       "    </tr>\n",
       "    <tr>\n",
       "      <th>22</th>\n",
       "      <td>3.1 out of 5</td>\n",
       "      <td>waste sound</td>\n",
       "    </tr>\n",
       "    <tr>\n",
       "      <th>23</th>\n",
       "      <td>4.2 out of 5</td>\n",
       "      <td>Value for money</td>\n",
       "    </tr>\n",
       "    <tr>\n",
       "      <th>24</th>\n",
       "      <td>3.8 out of 5</td>\n",
       "      <td>Superb Speakers &amp; Bass Got In 1990 Rs Only :D</td>\n",
       "    </tr>\n",
       "  </tbody>\n",
       "</table>\n",
       "</div>"
      ],
      "text/plain": [
       "         Ratings                                            Reviews\n",
       "0   3.5 out of 5                                     How to connect\n",
       "1   3.7 out of 5                 Issue with connection to my led TV\n",
       "2   3.9 out of 5   Very nice Product I ball tender 2.1 multi spekar\n",
       "3   3.8 out of 5      Superb Speakers & Bass Got In 1990 Rs Only :D\n",
       "4     4 out of 5  It is very very bad product. I am very disappo...\n",
       "5   4.1 out of 5  No other choices... Please buy it.. Superb and...\n",
       "6     4 out of 5  It is very very bad product. I am very disappo...\n",
       "7   4.5 out of 5  If you're looking for a good quality surround ...\n",
       "8   3.8 out of 5      Superb Speakers & Bass Got In 1990 Rs Only :D\n",
       "9   3.4 out of 5                   Satisfied product for this price\n",
       "10  3.8 out of 5                                   Send is pathetic\n",
       "11  3.2 out of 5                                       Some problem\n",
       "12  3.4 out of 5                              Excellent Product....\n",
       "13  3.8 out of 5                                              Super\n",
       "14  4.2 out of 5  Perfect sound signature with amazing loudness ...\n",
       "15  3.9 out of 5                                         Five Stars\n",
       "16  3.3 out of 5  FR,SR,center pin and FM is not working and sho...\n",
       "17    4 out of 5  It is very very bad product. I am very disappo...\n",
       "18  4.2 out of 5  Perfect sound signature with amazing loudness ...\n",
       "19  3.4 out of 5  Not working properly some heavy background noi...\n",
       "20  3.2 out of 5               cheated in name of this refurbished?\n",
       "21  3.3 out of 5                             Dolby is not working😭😭\n",
       "22  3.1 out of 5                                        waste sound\n",
       "23  4.2 out of 5                                    Value for money\n",
       "24  3.8 out of 5      Superb Speakers & Bass Got In 1990 Rs Only :D"
      ]
     },
     "execution_count": 96,
     "metadata": {
      "tags": []
     },
     "output_type": "execute_result"
    }
   ],
   "source": [
    "df.head(26)"
   ]
  },
  {
   "cell_type": "code",
   "execution_count": 98,
   "metadata": {
    "id": "tPxO6djxyeYQ"
   },
   "outputs": [],
   "source": [
    "df['Ratings'].replace(['3.5 out of 5','3.7 out of 5','3.9 out of 5'],['4 out of 5','4 out of 5','4 out of 5'], inplace = True)"
   ]
  },
  {
   "cell_type": "code",
   "execution_count": 99,
   "metadata": {
    "id": "emQt9e6tyhA2"
   },
   "outputs": [],
   "source": [
    "df['Ratings'].replace(['3.8 out of 5','4.1 out of 5'],['4 out of 5','4 out of 5'], inplace = True)"
   ]
  },
  {
   "cell_type": "code",
   "execution_count": 100,
   "metadata": {
    "id": "QqyGtJlmbNzm"
   },
   "outputs": [],
   "source": [
    "df['Ratings'].replace(['4.5 out of 5','3.4 out of 5','3.2 out of 5'],['5 out of 5','3 out of 5','3 out of 5'], inplace = True)"
   ]
  },
  {
   "cell_type": "code",
   "execution_count": 103,
   "metadata": {
    "id": "ChMAYVI_Q9rY"
   },
   "outputs": [],
   "source": [
    "df['Ratings'].replace(['3.3 out of 5'],['4 out of 5'], inplace = True)"
   ]
  },
  {
   "cell_type": "code",
   "execution_count": 104,
   "metadata": {
    "colab": {
     "base_uri": "https://localhost:8080/",
     "height": 824
    },
    "id": "xUu2qzV4yqSD",
    "outputId": "2e1c8178-243b-48bf-9dd3-d100a9fbe1d5"
   },
   "outputs": [
    {
     "data": {
      "text/html": [
       "<div>\n",
       "<style scoped>\n",
       "    .dataframe tbody tr th:only-of-type {\n",
       "        vertical-align: middle;\n",
       "    }\n",
       "\n",
       "    .dataframe tbody tr th {\n",
       "        vertical-align: top;\n",
       "    }\n",
       "\n",
       "    .dataframe thead th {\n",
       "        text-align: right;\n",
       "    }\n",
       "</style>\n",
       "<table border=\"1\" class=\"dataframe\">\n",
       "  <thead>\n",
       "    <tr style=\"text-align: right;\">\n",
       "      <th></th>\n",
       "      <th>Ratings</th>\n",
       "      <th>Reviews</th>\n",
       "    </tr>\n",
       "  </thead>\n",
       "  <tbody>\n",
       "    <tr>\n",
       "      <th>0</th>\n",
       "      <td>4 out of 5</td>\n",
       "      <td>How to connect</td>\n",
       "    </tr>\n",
       "    <tr>\n",
       "      <th>1</th>\n",
       "      <td>4 out of 5</td>\n",
       "      <td>Issue with connection to my led TV</td>\n",
       "    </tr>\n",
       "    <tr>\n",
       "      <th>2</th>\n",
       "      <td>4 out of 5</td>\n",
       "      <td>Very nice Product I ball tender 2.1 multi spekar</td>\n",
       "    </tr>\n",
       "    <tr>\n",
       "      <th>3</th>\n",
       "      <td>4 out of 5</td>\n",
       "      <td>Superb Speakers &amp; Bass Got In 1990 Rs Only :D</td>\n",
       "    </tr>\n",
       "    <tr>\n",
       "      <th>4</th>\n",
       "      <td>4 out of 5</td>\n",
       "      <td>It is very very bad product. I am very disappo...</td>\n",
       "    </tr>\n",
       "    <tr>\n",
       "      <th>5</th>\n",
       "      <td>4 out of 5</td>\n",
       "      <td>No other choices... Please buy it.. Superb and...</td>\n",
       "    </tr>\n",
       "    <tr>\n",
       "      <th>6</th>\n",
       "      <td>4 out of 5</td>\n",
       "      <td>It is very very bad product. I am very disappo...</td>\n",
       "    </tr>\n",
       "    <tr>\n",
       "      <th>7</th>\n",
       "      <td>5 out of 5</td>\n",
       "      <td>If you're looking for a good quality surround ...</td>\n",
       "    </tr>\n",
       "    <tr>\n",
       "      <th>8</th>\n",
       "      <td>4 out of 5</td>\n",
       "      <td>Superb Speakers &amp; Bass Got In 1990 Rs Only :D</td>\n",
       "    </tr>\n",
       "    <tr>\n",
       "      <th>9</th>\n",
       "      <td>3 out of 5</td>\n",
       "      <td>Satisfied product for this price</td>\n",
       "    </tr>\n",
       "    <tr>\n",
       "      <th>10</th>\n",
       "      <td>4 out of 5</td>\n",
       "      <td>Send is pathetic</td>\n",
       "    </tr>\n",
       "    <tr>\n",
       "      <th>11</th>\n",
       "      <td>3 out of 5</td>\n",
       "      <td>Some problem</td>\n",
       "    </tr>\n",
       "    <tr>\n",
       "      <th>12</th>\n",
       "      <td>3 out of 5</td>\n",
       "      <td>Excellent Product....</td>\n",
       "    </tr>\n",
       "    <tr>\n",
       "      <th>13</th>\n",
       "      <td>4 out of 5</td>\n",
       "      <td>Super</td>\n",
       "    </tr>\n",
       "    <tr>\n",
       "      <th>14</th>\n",
       "      <td>4 out of 5</td>\n",
       "      <td>Perfect sound signature with amazing loudness ...</td>\n",
       "    </tr>\n",
       "    <tr>\n",
       "      <th>15</th>\n",
       "      <td>4 out of 5</td>\n",
       "      <td>Five Stars</td>\n",
       "    </tr>\n",
       "    <tr>\n",
       "      <th>16</th>\n",
       "      <td>4 out of 5</td>\n",
       "      <td>FR,SR,center pin and FM is not working and sho...</td>\n",
       "    </tr>\n",
       "    <tr>\n",
       "      <th>17</th>\n",
       "      <td>4 out of 5</td>\n",
       "      <td>It is very very bad product. I am very disappo...</td>\n",
       "    </tr>\n",
       "    <tr>\n",
       "      <th>18</th>\n",
       "      <td>4 out of 5</td>\n",
       "      <td>Perfect sound signature with amazing loudness ...</td>\n",
       "    </tr>\n",
       "    <tr>\n",
       "      <th>19</th>\n",
       "      <td>3 out of 5</td>\n",
       "      <td>Not working properly some heavy background noi...</td>\n",
       "    </tr>\n",
       "    <tr>\n",
       "      <th>20</th>\n",
       "      <td>3 out of 5</td>\n",
       "      <td>cheated in name of this refurbished?</td>\n",
       "    </tr>\n",
       "    <tr>\n",
       "      <th>21</th>\n",
       "      <td>4 out of 5</td>\n",
       "      <td>Dolby is not working😭😭</td>\n",
       "    </tr>\n",
       "    <tr>\n",
       "      <th>22</th>\n",
       "      <td>3 out of 5</td>\n",
       "      <td>waste sound</td>\n",
       "    </tr>\n",
       "    <tr>\n",
       "      <th>23</th>\n",
       "      <td>4 out of 5</td>\n",
       "      <td>Value for money</td>\n",
       "    </tr>\n",
       "    <tr>\n",
       "      <th>24</th>\n",
       "      <td>4 out of 5</td>\n",
       "      <td>Superb Speakers &amp; Bass Got In 1990 Rs Only :D</td>\n",
       "    </tr>\n",
       "  </tbody>\n",
       "</table>\n",
       "</div>"
      ],
      "text/plain": [
       "       Ratings                                            Reviews\n",
       "0   4 out of 5                                     How to connect\n",
       "1   4 out of 5                 Issue with connection to my led TV\n",
       "2   4 out of 5   Very nice Product I ball tender 2.1 multi spekar\n",
       "3   4 out of 5      Superb Speakers & Bass Got In 1990 Rs Only :D\n",
       "4   4 out of 5  It is very very bad product. I am very disappo...\n",
       "5   4 out of 5  No other choices... Please buy it.. Superb and...\n",
       "6   4 out of 5  It is very very bad product. I am very disappo...\n",
       "7   5 out of 5  If you're looking for a good quality surround ...\n",
       "8   4 out of 5      Superb Speakers & Bass Got In 1990 Rs Only :D\n",
       "9   3 out of 5                   Satisfied product for this price\n",
       "10  4 out of 5                                   Send is pathetic\n",
       "11  3 out of 5                                       Some problem\n",
       "12  3 out of 5                              Excellent Product....\n",
       "13  4 out of 5                                              Super\n",
       "14  4 out of 5  Perfect sound signature with amazing loudness ...\n",
       "15  4 out of 5                                         Five Stars\n",
       "16  4 out of 5  FR,SR,center pin and FM is not working and sho...\n",
       "17  4 out of 5  It is very very bad product. I am very disappo...\n",
       "18  4 out of 5  Perfect sound signature with amazing loudness ...\n",
       "19  3 out of 5  Not working properly some heavy background noi...\n",
       "20  3 out of 5               cheated in name of this refurbished?\n",
       "21  4 out of 5                             Dolby is not working😭😭\n",
       "22  3 out of 5                                        waste sound\n",
       "23  4 out of 5                                    Value for money\n",
       "24  4 out of 5      Superb Speakers & Bass Got In 1990 Rs Only :D"
      ]
     },
     "execution_count": 104,
     "metadata": {
      "tags": []
     },
     "output_type": "execute_result"
    }
   ],
   "source": [
    "df.head(26)"
   ]
  },
  {
   "cell_type": "code",
   "execution_count": 105,
   "metadata": {
    "colab": {
     "base_uri": "https://localhost:8080/"
    },
    "id": "k0f-CpUkyu1J",
    "outputId": "822eb628-3c79-4b74-b869-a8a24f9d435c"
   },
   "outputs": [
    {
     "data": {
      "text/plain": [
       "4 out of 5    18\n",
       "3 out of 5     6\n",
       "5 out of 5     1\n",
       "Name: Ratings, dtype: int64"
      ]
     },
     "execution_count": 105,
     "metadata": {
      "tags": []
     },
     "output_type": "execute_result"
    }
   ],
   "source": [
    "df['Ratings'].value_counts()"
   ]
  },
  {
   "cell_type": "code",
   "execution_count": 107,
   "metadata": {
    "id": "5MA21G3a0HwP"
   },
   "outputs": [],
   "source": [
    "import preprocess_kgptalkie as ps\n",
    "import re"
   ]
  },
  {
   "cell_type": "code",
   "execution_count": 108,
   "metadata": {
    "id": "Yvn6fePm0R6L"
   },
   "outputs": [],
   "source": [
    "def get_clean(x):\n",
    "    x = str(x).lower().replace('\\\\', '').replace('_', ' ')\n",
    "    x = ps.cont_exp(x)\n",
    "    x = ps.remove_emails(x)\n",
    "    x = ps.remove_urls(x)\n",
    "    x = ps.remove_html_tags(x)\n",
    "    x = ps.remove_accented_chars(x)\n",
    "    x = ps.remove_special_chars(x)\n",
    "    x = re.sub(\"(.)\\\\1{2,}\", \"\\\\1\", x)\n",
    "    return x"
   ]
  },
  {
   "cell_type": "code",
   "execution_count": 109,
   "metadata": {
    "id": "m_dIHo7t0ez7"
   },
   "outputs": [],
   "source": [
    "df['Reviews'] = df['Reviews'].apply(lambda x : get_clean(x))"
   ]
  },
  {
   "cell_type": "code",
   "execution_count": 110,
   "metadata": {
    "colab": {
     "base_uri": "https://localhost:8080/",
     "height": 204
    },
    "id": "nz1CXx0z0y3R",
    "outputId": "d3fcd595-ad38-47a0-9315-a18febb209ea"
   },
   "outputs": [
    {
     "data": {
      "text/html": [
       "<div>\n",
       "<style scoped>\n",
       "    .dataframe tbody tr th:only-of-type {\n",
       "        vertical-align: middle;\n",
       "    }\n",
       "\n",
       "    .dataframe tbody tr th {\n",
       "        vertical-align: top;\n",
       "    }\n",
       "\n",
       "    .dataframe thead th {\n",
       "        text-align: right;\n",
       "    }\n",
       "</style>\n",
       "<table border=\"1\" class=\"dataframe\">\n",
       "  <thead>\n",
       "    <tr style=\"text-align: right;\">\n",
       "      <th></th>\n",
       "      <th>Ratings</th>\n",
       "      <th>Reviews</th>\n",
       "    </tr>\n",
       "  </thead>\n",
       "  <tbody>\n",
       "    <tr>\n",
       "      <th>0</th>\n",
       "      <td>4 out of 5</td>\n",
       "      <td>how to connect</td>\n",
       "    </tr>\n",
       "    <tr>\n",
       "      <th>1</th>\n",
       "      <td>4 out of 5</td>\n",
       "      <td>issue with connection to my led tv</td>\n",
       "    </tr>\n",
       "    <tr>\n",
       "      <th>2</th>\n",
       "      <td>4 out of 5</td>\n",
       "      <td>very nice product i ball tender 21 multi spekar</td>\n",
       "    </tr>\n",
       "    <tr>\n",
       "      <th>3</th>\n",
       "      <td>4 out of 5</td>\n",
       "      <td>superb speakers bass got in 1990 rs only d</td>\n",
       "    </tr>\n",
       "    <tr>\n",
       "      <th>4</th>\n",
       "      <td>4 out of 5</td>\n",
       "      <td>it is very very bad product i am very disappoi...</td>\n",
       "    </tr>\n",
       "  </tbody>\n",
       "</table>\n",
       "</div>"
      ],
      "text/plain": [
       "      Ratings                                            Reviews\n",
       "0  4 out of 5                                     how to connect\n",
       "1  4 out of 5                 issue with connection to my led tv\n",
       "2  4 out of 5    very nice product i ball tender 21 multi spekar\n",
       "3  4 out of 5         superb speakers bass got in 1990 rs only d\n",
       "4  4 out of 5  it is very very bad product i am very disappoi..."
      ]
     },
     "execution_count": 110,
     "metadata": {
      "tags": []
     },
     "output_type": "execute_result"
    }
   ],
   "source": [
    "df.head()"
   ]
  },
  {
   "cell_type": "code",
   "execution_count": 111,
   "metadata": {
    "id": "WGaQ3puN04ab"
   },
   "outputs": [],
   "source": [
    "# TFIDF and LinearSVC Algorithm\n",
    "from sklearn.feature_extraction.text import TfidfVectorizer\n",
    "from sklearn.model_selection import train_test_split\n",
    "from sklearn.svm import LinearSVC\n",
    "from sklearn.metrics import classification_report"
   ]
  },
  {
   "cell_type": "code",
   "execution_count": 112,
   "metadata": {
    "id": "QblHCh9l1lEN"
   },
   "outputs": [],
   "source": [
    "tfidf = TfidfVectorizer(max_features=5, ngram_range=(1,3),analyzer='char')"
   ]
  },
  {
   "cell_type": "code",
   "execution_count": 113,
   "metadata": {
    "id": "EQrzQieT18IK"
   },
   "outputs": [],
   "source": [
    "x=tfidf.fit_transform(df['Reviews'])\n",
    "y=df['Ratings']"
   ]
  },
  {
   "cell_type": "code",
   "execution_count": 114,
   "metadata": {
    "colab": {
     "base_uri": "https://localhost:8080/"
    },
    "id": "YLKDTG9X2KYh",
    "outputId": "3e41b048-f1dd-436e-e606-3236efd51fbe"
   },
   "outputs": [
    {
     "data": {
      "text/plain": [
       "((25, 5), (25,))"
      ]
     },
     "execution_count": 114,
     "metadata": {
      "tags": []
     },
     "output_type": "execute_result"
    }
   ],
   "source": [
    "x.shape, y.shape"
   ]
  },
  {
   "cell_type": "code",
   "execution_count": 115,
   "metadata": {
    "id": "B5wFBDFW2SxV"
   },
   "outputs": [],
   "source": [
    "x_train, x_test, y_train, y_test = train_test_split(x,y,test_size=0.2, random_state=0)"
   ]
  },
  {
   "cell_type": "code",
   "execution_count": 116,
   "metadata": {
    "colab": {
     "base_uri": "https://localhost:8080/"
    },
    "id": "W6rKSzxu2hIC",
    "outputId": "7460843c-2b83-40cb-c2a7-468b43242223"
   },
   "outputs": [
    {
     "data": {
      "text/plain": [
       "(20, 5)"
      ]
     },
     "execution_count": 116,
     "metadata": {
      "tags": []
     },
     "output_type": "execute_result"
    }
   ],
   "source": [
    "x_train.shape"
   ]
  },
  {
   "cell_type": "code",
   "execution_count": 117,
   "metadata": {
    "colab": {
     "base_uri": "https://localhost:8080/"
    },
    "id": "vY_r93Cb2o7-",
    "outputId": "6dee6952-9e94-42f5-8cba-93a8cf5174cd"
   },
   "outputs": [
    {
     "name": "stderr",
     "output_type": "stream",
     "text": [
      "/usr/local/lib/python3.7/dist-packages/sklearn/svm/_base.py:947: ConvergenceWarning: Liblinear failed to converge, increase the number of iterations.\n",
      "  \"the number of iterations.\", ConvergenceWarning)\n"
     ]
    },
    {
     "data": {
      "text/plain": [
       "LinearSVC(C=10, class_weight='balanced', dual=True, fit_intercept=True,\n",
       "          intercept_scaling=1, loss='squared_hinge', max_iter=1000,\n",
       "          multi_class='ovr', penalty='l2', random_state=None, tol=0.0001,\n",
       "          verbose=0)"
      ]
     },
     "execution_count": 117,
     "metadata": {
      "tags": []
     },
     "output_type": "execute_result"
    }
   ],
   "source": [
    "clf=LinearSVC(C=10,class_weight='balanced')\n",
    "clf.fit(x_train, y_train)"
   ]
  },
  {
   "cell_type": "code",
   "execution_count": 119,
   "metadata": {
    "id": "SVcerUQF30GU"
   },
   "outputs": [],
   "source": [
    "y_pred=clf.predict(x_test)"
   ]
  },
  {
   "cell_type": "code",
   "execution_count": 120,
   "metadata": {
    "colab": {
     "base_uri": "https://localhost:8080/"
    },
    "id": "sfKxSLo736bq",
    "outputId": "37d298a2-080b-44d5-8ed0-f5151cc83962"
   },
   "outputs": [
    {
     "name": "stdout",
     "output_type": "stream",
     "text": [
      "              precision    recall  f1-score   support\n",
      "\n",
      "  3 out of 5       0.00      0.00      0.00         2\n",
      "  4 out of 5       0.60      1.00      0.75         3\n",
      "\n",
      "    accuracy                           0.60         5\n",
      "   macro avg       0.30      0.50      0.37         5\n",
      "weighted avg       0.36      0.60      0.45         5\n",
      "\n"
     ]
    },
    {
     "name": "stderr",
     "output_type": "stream",
     "text": [
      "/usr/local/lib/python3.7/dist-packages/sklearn/metrics/_classification.py:1272: UndefinedMetricWarning: Precision and F-score are ill-defined and being set to 0.0 in labels with no predicted samples. Use `zero_division` parameter to control this behavior.\n",
      "  _warn_prf(average, modifier, msg_start, len(result))\n"
     ]
    }
   ],
   "source": [
    "print(classification_report(y_test, y_pred))"
   ]
  },
  {
   "cell_type": "code",
   "execution_count": 121,
   "metadata": {
    "colab": {
     "base_uri": "https://localhost:8080/"
    },
    "id": "fihxdRLz4KT0",
    "outputId": "4ff462b9-a080-4cb0-c320-92c7edb1fa76"
   },
   "outputs": [
    {
     "data": {
      "text/plain": [
       "array(['4 out of 5'], dtype=object)"
      ]
     },
     "execution_count": 121,
     "metadata": {
      "tags": []
     },
     "output_type": "execute_result"
    }
   ],
   "source": [
    "x='this product is realy good. i like it'\n",
    "x=get_clean(x)\n",
    "vec=tfidf.transform([x])\n",
    "clf.predict(vec)"
   ]
  }
 ],
 "metadata": {
  "colab": {
   "collapsed_sections": [],
   "name": "nlp8",
   "provenance": []
  },
  "kernelspec": {
   "display_name": "Python 3",
   "language": "python",
   "name": "python3"
  },
  "language_info": {
   "codemirror_mode": {
    "name": "ipython",
    "version": 3
   },
   "file_extension": ".py",
   "mimetype": "text/x-python",
   "name": "python",
   "nbconvert_exporter": "python",
   "pygments_lexer": "ipython3",
   "version": "3.7.3"
  }
 },
 "nbformat": 4,
 "nbformat_minor": 1
}
