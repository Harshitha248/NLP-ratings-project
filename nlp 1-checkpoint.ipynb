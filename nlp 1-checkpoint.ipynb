{
 "cells": [
  {
   "cell_type": "code",
   "execution_count": null,
   "metadata": {
    "id": "Pt2oA_IgtyRg"
   },
   "outputs": [],
   "source": [
    "import numpy as np #for Data Analysis\n",
    "import pandas as pd #for scientific computation"
   ]
  },
  {
   "cell_type": "code",
   "execution_count": null,
   "metadata": {
    "colab": {
     "base_uri": "https://localhost:8080/"
    },
    "id": "wSOE0wHVt65A",
    "outputId": "dc89d6d6-816e-4c61-d851-f54389831710"
   },
   "outputs": [
    {
     "name": "stdout",
     "output_type": "stream",
     "text": [
      "Mounted at /content/grive\n"
     ]
    }
   ],
   "source": [
    "from google.colab import drive\n",
    "drive.mount('/content/grive')"
   ]
  },
  {
   "cell_type": "code",
   "execution_count": null,
   "metadata": {
    "id": "2redSSmkw2s3"
   },
   "outputs": [],
   "source": [
    "df=pd.read_csv('/content/grive/My Drive/amazon_ratings_reviews.csv')"
   ]
  },
  {
   "cell_type": "code",
   "execution_count": null,
   "metadata": {
    "colab": {
     "base_uri": "https://localhost:8080/",
     "height": 204
    },
    "id": "n32u6UpNyFZI",
    "outputId": "e55e48fa-4e9e-4654-e9e7-88383030a5d4"
   },
   "outputs": [
    {
     "data": {
      "text/html": [
       "<div>\n",
       "<style scoped>\n",
       "    .dataframe tbody tr th:only-of-type {\n",
       "        vertical-align: middle;\n",
       "    }\n",
       "\n",
       "    .dataframe tbody tr th {\n",
       "        vertical-align: top;\n",
       "    }\n",
       "\n",
       "    .dataframe thead th {\n",
       "        text-align: right;\n",
       "    }\n",
       "</style>\n",
       "<table border=\"1\" class=\"dataframe\">\n",
       "  <thead>\n",
       "    <tr style=\"text-align: right;\">\n",
       "      <th></th>\n",
       "      <th>Ratings</th>\n",
       "      <th>Reviews</th>\n",
       "    </tr>\n",
       "  </thead>\n",
       "  <tbody>\n",
       "    <tr>\n",
       "      <th>0</th>\n",
       "      <td>5 out of 5</td>\n",
       "      <td>Awesome product.</td>\n",
       "    </tr>\n",
       "    <tr>\n",
       "      <th>1</th>\n",
       "      <td>4.3 out of 5</td>\n",
       "      <td>Impressive. Almost perfect</td>\n",
       "    </tr>\n",
       "    <tr>\n",
       "      <th>2</th>\n",
       "      <td>3.9 out of 5</td>\n",
       "      <td>Huge discount</td>\n",
       "    </tr>\n",
       "    <tr>\n",
       "      <th>3</th>\n",
       "      <td>4 out of 5</td>\n",
       "      <td>Accessories not available in box</td>\n",
       "    </tr>\n",
       "    <tr>\n",
       "      <th>4</th>\n",
       "      <td>3.8 out of 5</td>\n",
       "      <td>Not working also visited hp service centere</td>\n",
       "    </tr>\n",
       "  </tbody>\n",
       "</table>\n",
       "</div>"
      ],
      "text/plain": [
       "        Ratings                                      Reviews\n",
       "0    5 out of 5                             Awesome product.\n",
       "1  4.3 out of 5                   Impressive. Almost perfect\n",
       "2  3.9 out of 5                                Huge discount\n",
       "3    4 out of 5             Accessories not available in box\n",
       "4  3.8 out of 5  Not working also visited hp service centere"
      ]
     },
     "execution_count": 4,
     "metadata": {
      "tags": []
     },
     "output_type": "execute_result"
    }
   ],
   "source": [
    "df.head()"
   ]
  },
  {
   "cell_type": "code",
   "execution_count": null,
   "metadata": {
    "id": "tPxO6djxyeYQ"
   },
   "outputs": [],
   "source": [
    "df['Ratings'].replace(['4.3 out of 5','3.9 out of 5','3.8 out of 5'],['4 out of 5','4 out of 5','4 out of 5'], inplace = True)"
   ]
  },
  {
   "cell_type": "code",
   "execution_count": null,
   "metadata": {
    "id": "emQt9e6tyhA2"
   },
   "outputs": [],
   "source": [
    "df['Ratings'].replace(['3.6 out of 5','3.3 out of 5','4.1 out of 5'],['4 out of 5','3 out of 5','4 out of 5'], inplace = True)"
   ]
  },
  {
   "cell_type": "code",
   "execution_count": null,
   "metadata": {
    "id": "RkK_RCVLyoLg"
   },
   "outputs": [],
   "source": [
    "df['Ratings'].replace(['4.2 out of 5','3.7 out of 5','4.5 out of 5','4.4 out of 5'],['4 out of 5','4 out of 5','5 out of 5','4 out of 5'], inplace = True)"
   ]
  },
  {
   "cell_type": "code",
   "execution_count": null,
   "metadata": {
    "colab": {
     "base_uri": "https://localhost:8080/",
     "height": 204
    },
    "id": "xUu2qzV4yqSD",
    "outputId": "3cf15cfb-3852-403b-e8c7-3c5da03beaac"
   },
   "outputs": [
    {
     "data": {
      "text/html": [
       "<div>\n",
       "<style scoped>\n",
       "    .dataframe tbody tr th:only-of-type {\n",
       "        vertical-align: middle;\n",
       "    }\n",
       "\n",
       "    .dataframe tbody tr th {\n",
       "        vertical-align: top;\n",
       "    }\n",
       "\n",
       "    .dataframe thead th {\n",
       "        text-align: right;\n",
       "    }\n",
       "</style>\n",
       "<table border=\"1\" class=\"dataframe\">\n",
       "  <thead>\n",
       "    <tr style=\"text-align: right;\">\n",
       "      <th></th>\n",
       "      <th>Ratings</th>\n",
       "      <th>Reviews</th>\n",
       "    </tr>\n",
       "  </thead>\n",
       "  <tbody>\n",
       "    <tr>\n",
       "      <th>0</th>\n",
       "      <td>5 out of 5</td>\n",
       "      <td>Awesome product.</td>\n",
       "    </tr>\n",
       "    <tr>\n",
       "      <th>1</th>\n",
       "      <td>4 out of 5</td>\n",
       "      <td>Impressive. Almost perfect</td>\n",
       "    </tr>\n",
       "    <tr>\n",
       "      <th>2</th>\n",
       "      <td>4 out of 5</td>\n",
       "      <td>Huge discount</td>\n",
       "    </tr>\n",
       "    <tr>\n",
       "      <th>3</th>\n",
       "      <td>4 out of 5</td>\n",
       "      <td>Accessories not available in box</td>\n",
       "    </tr>\n",
       "    <tr>\n",
       "      <th>4</th>\n",
       "      <td>4 out of 5</td>\n",
       "      <td>Not working also visited hp service centere</td>\n",
       "    </tr>\n",
       "  </tbody>\n",
       "</table>\n",
       "</div>"
      ],
      "text/plain": [
       "      Ratings                                      Reviews\n",
       "0  5 out of 5                             Awesome product.\n",
       "1  4 out of 5                   Impressive. Almost perfect\n",
       "2  4 out of 5                                Huge discount\n",
       "3  4 out of 5             Accessories not available in box\n",
       "4  4 out of 5  Not working also visited hp service centere"
      ]
     },
     "execution_count": 8,
     "metadata": {
      "tags": []
     },
     "output_type": "execute_result"
    }
   ],
   "source": [
    "df.head()"
   ]
  },
  {
   "cell_type": "code",
   "execution_count": null,
   "metadata": {
    "colab": {
     "base_uri": "https://localhost:8080/"
    },
    "id": "k0f-CpUkyu1J",
    "outputId": "5913e02c-06ec-44ad-c904-e21e94f223c5"
   },
   "outputs": [
    {
     "data": {
      "text/plain": [
       "4 out of 5    16\n",
       "3 out of 5     3\n",
       "5 out of 5     2\n",
       "NO rating      2\n",
       "Name: Ratings, dtype: int64"
      ]
     },
     "execution_count": 9,
     "metadata": {
      "tags": []
     },
     "output_type": "execute_result"
    }
   ],
   "source": [
    "df['Ratings'].value_counts()"
   ]
  },
  {
   "cell_type": "code",
   "execution_count": null,
   "metadata": {
    "colab": {
     "base_uri": "https://localhost:8080/"
    },
    "id": "2y4H_8fjzCAy",
    "outputId": "54cd90ba-7f54-4f9d-f665-ad3047fcd8f4"
   },
   "outputs": [
    {
     "name": "stdout",
     "output_type": "stream",
     "text": [
      "Collecting git+https://github.com/laxmimerit/preprocess_kgptalkie.git\n",
      "  Cloning https://github.com/laxmimerit/preprocess_kgptalkie.git to /tmp/pip-req-build-24xebrzz\n",
      "  Running command git clone -q https://github.com/laxmimerit/preprocess_kgptalkie.git /tmp/pip-req-build-24xebrzz\n",
      "Building wheels for collected packages: preprocess-kgptalkie\n",
      "  Building wheel for preprocess-kgptalkie (setup.py) ... \u001b[?25l\u001b[?25hdone\n",
      "  Created wheel for preprocess-kgptalkie: filename=preprocess_kgptalkie-0.1.3-cp37-none-any.whl size=11759 sha256=7cc1b0b8b2f3ef0a6aa14afbad5755d0c0ff9fee976ddd2a5ff441ae8f6182b7\n",
      "  Stored in directory: /tmp/pip-ephem-wheel-cache-7e8h0op0/wheels/a8/18/22/90afa4bd43247fb9a75b710a4a3fcd94966c022ce9e3c7d0a6\n",
      "Successfully built preprocess-kgptalkie\n",
      "Installing collected packages: preprocess-kgptalkie\n",
      "Successfully installed preprocess-kgptalkie-0.1.3\n"
     ]
    }
   ],
   "source": [
    "pip install git+https://github.com/laxmimerit/preprocess_kgptalkie.git"
   ]
  },
  {
   "cell_type": "code",
   "execution_count": null,
   "metadata": {
    "id": "5MA21G3a0HwP"
   },
   "outputs": [],
   "source": [
    "import preprocess_kgptalkie as ps\n",
    "import re"
   ]
  },
  {
   "cell_type": "code",
   "execution_count": null,
   "metadata": {
    "id": "Yvn6fePm0R6L"
   },
   "outputs": [],
   "source": [
    "def get_clean(x):\n",
    "    x = str(x).lower().replace('\\\\', '').replace('_', ' ')\n",
    "    x = ps.cont_exp(x)\n",
    "    x = ps.remove_emails(x)\n",
    "    x = ps.remove_urls(x)\n",
    "    x = ps.remove_html_tags(x)\n",
    "    x = ps.remove_accented_chars(x)\n",
    "    x = ps.remove_special_chars(x)\n",
    "    x = re.sub(\"(.)\\\\1{2,}\", \"\\\\1\", x)\n",
    "    return x"
   ]
  },
  {
   "cell_type": "code",
   "execution_count": null,
   "metadata": {
    "id": "m_dIHo7t0ez7"
   },
   "outputs": [],
   "source": [
    "df['Reviews'] = df['Reviews'].apply(lambda x : get_clean(x))"
   ]
  },
  {
   "cell_type": "code",
   "execution_count": null,
   "metadata": {
    "colab": {
     "base_uri": "https://localhost:8080/",
     "height": 204
    },
    "id": "nz1CXx0z0y3R",
    "outputId": "90198c75-6467-457b-a047-c31fb4cc2713"
   },
   "outputs": [
    {
     "data": {
      "text/html": [
       "<div>\n",
       "<style scoped>\n",
       "    .dataframe tbody tr th:only-of-type {\n",
       "        vertical-align: middle;\n",
       "    }\n",
       "\n",
       "    .dataframe tbody tr th {\n",
       "        vertical-align: top;\n",
       "    }\n",
       "\n",
       "    .dataframe thead th {\n",
       "        text-align: right;\n",
       "    }\n",
       "</style>\n",
       "<table border=\"1\" class=\"dataframe\">\n",
       "  <thead>\n",
       "    <tr style=\"text-align: right;\">\n",
       "      <th></th>\n",
       "      <th>Ratings</th>\n",
       "      <th>Reviews</th>\n",
       "    </tr>\n",
       "  </thead>\n",
       "  <tbody>\n",
       "    <tr>\n",
       "      <th>0</th>\n",
       "      <td>5 out of 5</td>\n",
       "      <td>awesome product</td>\n",
       "    </tr>\n",
       "    <tr>\n",
       "      <th>1</th>\n",
       "      <td>4 out of 5</td>\n",
       "      <td>impressive almost perfect</td>\n",
       "    </tr>\n",
       "    <tr>\n",
       "      <th>2</th>\n",
       "      <td>4 out of 5</td>\n",
       "      <td>huge discount</td>\n",
       "    </tr>\n",
       "    <tr>\n",
       "      <th>3</th>\n",
       "      <td>4 out of 5</td>\n",
       "      <td>accessories not available in box</td>\n",
       "    </tr>\n",
       "    <tr>\n",
       "      <th>4</th>\n",
       "      <td>4 out of 5</td>\n",
       "      <td>not working also visited horsepower service ce...</td>\n",
       "    </tr>\n",
       "  </tbody>\n",
       "</table>\n",
       "</div>"
      ],
      "text/plain": [
       "      Ratings                                            Reviews\n",
       "0  5 out of 5                                    awesome product\n",
       "1  4 out of 5                          impressive almost perfect\n",
       "2  4 out of 5                                      huge discount\n",
       "3  4 out of 5                   accessories not available in box\n",
       "4  4 out of 5  not working also visited horsepower service ce..."
      ]
     },
     "execution_count": 15,
     "metadata": {
      "tags": []
     },
     "output_type": "execute_result"
    }
   ],
   "source": [
    "df.head()"
   ]
  },
  {
   "cell_type": "code",
   "execution_count": null,
   "metadata": {
    "id": "WGaQ3puN04ab"
   },
   "outputs": [],
   "source": [
    "# TFIDF and LinearSVC Algorithm\n",
    "from sklearn.feature_extraction.text import TfidfVectorizer\n",
    "from sklearn.model_selection import train_test_split\n",
    "from sklearn.svm import LinearSVC\n",
    "from sklearn.metrics import classification_report"
   ]
  },
  {
   "cell_type": "code",
   "execution_count": null,
   "metadata": {
    "id": "QblHCh9l1lEN"
   },
   "outputs": [],
   "source": [
    "tfidf = TfidfVectorizer(max_features=5, ngram_range=(1,3),analyzer='char')"
   ]
  },
  {
   "cell_type": "code",
   "execution_count": null,
   "metadata": {
    "id": "EQrzQieT18IK"
   },
   "outputs": [],
   "source": [
    "x=tfidf.fit_transform(df['Reviews'])\n",
    "y=df['Ratings']"
   ]
  },
  {
   "cell_type": "code",
   "execution_count": null,
   "metadata": {
    "colab": {
     "base_uri": "https://localhost:8080/"
    },
    "id": "YLKDTG9X2KYh",
    "outputId": "e34f5e31-b57a-40b0-dffd-3330a05a4127"
   },
   "outputs": [
    {
     "data": {
      "text/plain": [
       "((23, 5), (23,))"
      ]
     },
     "execution_count": 19,
     "metadata": {
      "tags": []
     },
     "output_type": "execute_result"
    }
   ],
   "source": [
    "x.shape, y.shape"
   ]
  },
  {
   "cell_type": "code",
   "execution_count": null,
   "metadata": {
    "id": "B5wFBDFW2SxV"
   },
   "outputs": [],
   "source": [
    "x_train, x_test, y_train, y_test = train_test_split(x,y,test_size=0.2, random_state=0)"
   ]
  },
  {
   "cell_type": "code",
   "execution_count": null,
   "metadata": {
    "colab": {
     "base_uri": "https://localhost:8080/"
    },
    "id": "W6rKSzxu2hIC",
    "outputId": "f4a387e7-11fd-4cea-eb76-accbfc57d1f7"
   },
   "outputs": [
    {
     "data": {
      "text/plain": [
       "(18, 5)"
      ]
     },
     "execution_count": 21,
     "metadata": {
      "tags": []
     },
     "output_type": "execute_result"
    }
   ],
   "source": [
    "x_train.shape"
   ]
  },
  {
   "cell_type": "code",
   "execution_count": null,
   "metadata": {
    "colab": {
     "base_uri": "https://localhost:8080/"
    },
    "id": "vY_r93Cb2o7-",
    "outputId": "2fefb490-49cb-4bad-e471-36c7127831e2"
   },
   "outputs": [
    {
     "data": {
      "text/plain": [
       "LinearSVC(C=10, class_weight='balanced', dual=True, fit_intercept=True,\n",
       "          intercept_scaling=1, loss='squared_hinge', max_iter=1000,\n",
       "          multi_class='ovr', penalty='l2', random_state=None, tol=0.0001,\n",
       "          verbose=0)"
      ]
     },
     "execution_count": 27,
     "metadata": {
      "tags": []
     },
     "output_type": "execute_result"
    }
   ],
   "source": [
    "clf=LinearSVC(C=10,class_weight='balanced')\n",
    "clf.fit(x_train, y_train)"
   ]
  },
  {
   "cell_type": "code",
   "execution_count": null,
   "metadata": {
    "id": "SVcerUQF30GU"
   },
   "outputs": [],
   "source": [
    "y_pred=clf.predict(x_test)"
   ]
  },
  {
   "cell_type": "code",
   "execution_count": null,
   "metadata": {
    "colab": {
     "base_uri": "https://localhost:8080/"
    },
    "id": "sfKxSLo736bq",
    "outputId": "fc73fa1f-2407-49ba-ca79-c49710533cea"
   },
   "outputs": [
    {
     "name": "stdout",
     "output_type": "stream",
     "text": [
      "              precision    recall  f1-score   support\n",
      "\n",
      "  3 out of 5       0.00      0.00      0.00         1\n",
      "  4 out of 5       0.50      0.50      0.50         2\n",
      "  5 out of 5       0.00      0.00      0.00         1\n",
      "   NO rating       0.50      1.00      0.67         1\n",
      "\n",
      "    accuracy                           0.40         5\n",
      "   macro avg       0.25      0.38      0.29         5\n",
      "weighted avg       0.30      0.40      0.33         5\n",
      "\n"
     ]
    },
    {
     "name": "stderr",
     "output_type": "stream",
     "text": [
      "/usr/local/lib/python3.7/dist-packages/sklearn/metrics/_classification.py:1272: UndefinedMetricWarning: Precision and F-score are ill-defined and being set to 0.0 in labels with no predicted samples. Use `zero_division` parameter to control this behavior.\n",
      "  _warn_prf(average, modifier, msg_start, len(result))\n"
     ]
    }
   ],
   "source": [
    "print(classification_report(y_test, y_pred))"
   ]
  },
  {
   "cell_type": "code",
   "execution_count": null,
   "metadata": {
    "colab": {
     "base_uri": "https://localhost:8080/"
    },
    "id": "fihxdRLz4KT0",
    "outputId": "486f9507-ba34-4275-ff4c-59e739e60d5a"
   },
   "outputs": [
    {
     "data": {
      "text/plain": [
       "array(['4 out of 5'], dtype=object)"
      ]
     },
     "execution_count": 31,
     "metadata": {
      "tags": []
     },
     "output_type": "execute_result"
    }
   ],
   "source": [
    "x='this product is realy good. i like it'\n",
    "x=get_clean(x)\n",
    "vec=tfidf.transform([x])\n",
    "clf.predict(vec)"
   ]
  }
 ],
 "metadata": {
  "colab": {
   "collapsed_sections": [],
   "name": "nlp",
   "provenance": []
  },
  "kernelspec": {
   "display_name": "Python 3",
   "language": "python",
   "name": "python3"
  },
  "language_info": {
   "codemirror_mode": {
    "name": "ipython",
    "version": 3
   },
   "file_extension": ".py",
   "mimetype": "text/x-python",
   "name": "python",
   "nbconvert_exporter": "python",
   "pygments_lexer": "ipython3",
   "version": "3.7.3"
  }
 },
 "nbformat": 4,
 "nbformat_minor": 1
}
